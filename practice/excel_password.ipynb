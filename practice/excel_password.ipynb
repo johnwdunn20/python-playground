{
 "cells": [
  {
   "cell_type": "code",
   "execution_count": 1,
   "metadata": {},
   "outputs": [],
   "source": [
    "import openpyxl"
   ]
  },
  {
   "cell_type": "code",
   "execution_count": 2,
   "metadata": {},
   "outputs": [
    {
     "name": "stderr",
     "output_type": "stream",
     "text": [
      "/Users/johndunn/Documents/Coding/projects/python-playground/venv/lib/python3.12/site-packages/openpyxl/worksheet/header_footer.py:48: UserWarning: Cannot parse header or footer so it will be ignored\n",
      "  warn(\"\"\"Cannot parse header or footer so it will be ignored\"\"\")\n"
     ]
    }
   ],
   "source": [
    "file_path = \"/Users/johndunn/Downloads/excel_test/test-no-macros.xlsx\"\n",
    "excel_file = openpyxl.load_workbook(file_path)"
   ]
  },
  {
   "cell_type": "code",
   "execution_count": 5,
   "metadata": {},
   "outputs": [
    {
     "name": "stdout",
     "output_type": "stream",
     "text": [
      "['CLAIM INPUT', 'CLAIM OUTPUT', 'LAB ONLY CLAIMS', 'PROVIDER LIST', 'TUTORIALS', 'STATUS INDICATORS', 'P', 'PIVOT', 'RATES', '.', '....', 'T IND', 'Outlier', 'J1 PACKAGE 1', 'J1 PACKAGE LAB', 'LAB ONLY', 'Q1', 'Q2', 'J1', 'J1 COMP ADJ', 'J2', '8005 & 8006', '8007 & 8008', '8010', '5041 & 5045', 'LAB FEE SCHEDULE', 'DME FEE SCHEDULE', 'SCRN & PREV', 'REHAB', 'MAMMO', 'COVID', 'NEW TECH', 'PFS-LOOKUP-USE', 'PFS-DIRECT-NOT USE']\n"
     ]
    }
   ],
   "source": [
    "# Get the sheet names\n",
    "sheet_names = excel_file.sheetnames\n",
    "print(sheet_names)"
   ]
  }
 ],
 "metadata": {
  "kernelspec": {
   "display_name": "venv",
   "language": "python",
   "name": "python3"
  },
  "language_info": {
   "codemirror_mode": {
    "name": "ipython",
    "version": 3
   },
   "file_extension": ".py",
   "mimetype": "text/x-python",
   "name": "python",
   "nbconvert_exporter": "python",
   "pygments_lexer": "ipython3",
   "version": "3.12.1"
  }
 },
 "nbformat": 4,
 "nbformat_minor": 2
}
