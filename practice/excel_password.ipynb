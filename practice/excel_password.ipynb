{
 "cells": [
  {
   "cell_type": "code",
   "execution_count": 15,
   "metadata": {},
   "outputs": [],
   "source": [
    "import openpyxl\n",
    "from IPython.display import display, Markdown\n",
    "import msoffcrypto"
   ]
  },
  {
   "cell_type": "code",
   "execution_count": 33,
   "metadata": {},
   "outputs": [],
   "source": [
    "def pretty_print_title(title, value):\n",
    "    display(Markdown(\n",
    "        f\"\"\"### **{title}**\n",
    "        {value}\"\"\"))"
   ]
  },
  {
   "cell_type": "code",
   "execution_count": 2,
   "metadata": {},
   "outputs": [
    {
     "name": "stderr",
     "output_type": "stream",
     "text": [
      "/Users/johndunn/Documents/Coding/projects/python-playground/venv/lib/python3.12/site-packages/openpyxl/worksheet/header_footer.py:48: UserWarning: Cannot parse header or footer so it will be ignored\n",
      "  warn(\"\"\"Cannot parse header or footer so it will be ignored\"\"\")\n"
     ]
    }
   ],
   "source": [
    "file_path = \"/Users/johndunn/Downloads/excel_test/test-no-macros.xlsx\"\n",
    "excel_file = openpyxl.load_workbook(file_path)"
   ]
  },
  {
   "cell_type": "code",
   "execution_count": 5,
   "metadata": {},
   "outputs": [
    {
     "name": "stdout",
     "output_type": "stream",
     "text": [
      "['CLAIM INPUT', 'CLAIM OUTPUT', 'LAB ONLY CLAIMS', 'PROVIDER LIST', 'TUTORIALS', 'STATUS INDICATORS', 'P', 'PIVOT', 'RATES', '.', '....', 'T IND', 'Outlier', 'J1 PACKAGE 1', 'J1 PACKAGE LAB', 'LAB ONLY', 'Q1', 'Q2', 'J1', 'J1 COMP ADJ', 'J2', '8005 & 8006', '8007 & 8008', '8010', '5041 & 5045', 'LAB FEE SCHEDULE', 'DME FEE SCHEDULE', 'SCRN & PREV', 'REHAB', 'MAMMO', 'COVID', 'NEW TECH', 'PFS-LOOKUP-USE', 'PFS-DIRECT-NOT USE']\n"
     ]
    }
   ],
   "source": [
    "# Get the sheet names\n",
    "sheet_names = excel_file.sheetnames\n",
    "print(sheet_names)"
   ]
  },
  {
   "cell_type": "code",
   "execution_count": 41,
   "metadata": {},
   "outputs": [
    {
     "data": {
      "text/markdown": [
       "### **Sheet title**\n",
       "        ."
      ],
      "text/plain": [
       "<IPython.core.display.Markdown object>"
      ]
     },
     "metadata": {},
     "output_type": "display_data"
    },
    {
     "data": {
      "text/markdown": [
       "### **sheet state**\n",
       "        hidden"
      ],
      "text/plain": [
       "<IPython.core.display.Markdown object>"
      ]
     },
     "metadata": {},
     "output_type": "display_data"
    },
    {
     "data": {
      "text/markdown": [
       "### **sheet view**\n",
       "        <openpyxl.worksheet.views.SheetView object>\n",
       "Parameters:\n",
       "windowProtection=None, showFormulas=None, showGridLines=False, showRowColHeaders=False, showZeros=None, rightToLeft=None, tabSelected=None, showRuler=None, showOutlineSymbols=None, defaultGridColor=None, showWhiteSpace=None, view=None, topLeftCell=None, colorId=None, zoomScale=None, zoomScaleNormal=100, zoomScaleSheetLayoutView=None, zoomScalePageLayoutView=None, zoomToFit=None, workbookViewId=0, pane=<openpyxl.worksheet.views.Pane object>\n",
       "Parameters:\n",
       "xSplit=5.0, ySplit=2.0, topLeftCell='F3', activePane='bottomRight', state='frozen', selection=[<openpyxl.worksheet.views.Selection object>\n",
       "Parameters:\n",
       "pane=None, activeCell='E2', activeCellId=None, sqref='E2:H2', <openpyxl.worksheet.views.Selection object>\n",
       "Parameters:\n",
       "pane='topRight', activeCell='E2', activeCellId=None, sqref='E2:H2', <openpyxl.worksheet.views.Selection object>\n",
       "Parameters:\n",
       "pane='bottomLeft', activeCell='E2', activeCellId=None, sqref='E2:H2', <openpyxl.worksheet.views.Selection object>\n",
       "Parameters:\n",
       "pane='bottomRight', activeCell='E2', activeCellId=None, sqref='E2:H2']"
      ],
      "text/plain": [
       "<IPython.core.display.Markdown object>"
      ]
     },
     "metadata": {},
     "output_type": "display_data"
    },
    {
     "data": {
      "text/markdown": [
       "### **sheet format**\n",
       "        <openpyxl.worksheet.dimensions.SheetFormatProperties object>\n",
       "Parameters:\n",
       "baseColWidth=10, defaultColWidth=9.6640625, defaultRowHeight=13.0, customHeight=None, zeroHeight=None, thickTop=None, thickBottom=None, outlineLevelRow=None, outlineLevelCol=None"
      ],
      "text/plain": [
       "<IPython.core.display.Markdown object>"
      ]
     },
     "metadata": {},
     "output_type": "display_data"
    },
    {
     "data": {
      "text/markdown": [
       "### **sheet properties**\n",
       "        <openpyxl.worksheet.properties.WorksheetProperties object>\n",
       "Parameters:\n",
       "codeName='Sheet1', enableFormatConditionsCalculation=None, filterMode=None, published=None, syncHorizontal=None, syncRef='F3', syncVertical=True, transitionEvaluation=True, transitionEntry=None, tabColor=None, outlinePr=<openpyxl.worksheet.properties.Outline object>\n",
       "Parameters:\n",
       "applyStyles=None, summaryBelow=True, summaryRight=True, showOutlineSymbols=None, pageSetUpPr=<openpyxl.worksheet.properties.PageSetupProperties object>\n",
       "Parameters:\n",
       "autoPageBreaks=None, fitToPage=True"
      ],
      "text/plain": [
       "<IPython.core.display.Markdown object>"
      ]
     },
     "metadata": {},
     "output_type": "display_data"
    },
    {
     "data": {
      "text/markdown": [
       "### **Row 15**\n",
       "        "
      ],
      "text/plain": [
       "<IPython.core.display.Markdown object>"
      ]
     },
     "metadata": {},
     "output_type": "display_data"
    },
    {
     "name": "stdout",
     "output_type": "stream",
     "text": [
      "0018U\n",
      "ONC THYR 10 MICRORNA SEQ ALG\n",
      "None\n",
      "A\n",
      "None\n",
      "=IF('....'!$E$343>0,0,IF('....'!$AB$85>26,0,VLOOKUP(A15,'J1 PACKAGE LAB'!$A$7:$H$3052,6,FALSE)))\n",
      "=IF('....'!$E$343>0,0,IF('....'!$AB$85>26,0,VLOOKUP(A15,'J1 PACKAGE LAB'!$A$7:$H$3052,7,FALSE)))\n",
      "=IF('....'!$E$343>0,0,IF('....'!$AB$85>26,0,VLOOKUP(A15,'J1 PACKAGE LAB'!$A$7:$H$3052,8,FALSE)))\n",
      "O\n",
      "O\n",
      "0\n",
      "812\n",
      "CARMUSTINE INJECTION\n",
      "K\n",
      "None\n",
      "=ROUND((S15),2)\n",
      "=IF(S15=0,0,IF(W15=1600,P15-1600,(P15-T15)))\n",
      "=IF(W15=1600,1600,P15-Q15)\n",
      "409.7\n",
      "=U15\n",
      "81.95\n",
      "=IF(S15=0,$I$1,(S15-T15)/S15)\n",
      "=IF(N15=\"H\",0,IF(P15-1600>=(1-T15/S15)*P15,1600,0))\n",
      "None\n",
      "NO\n",
      "NO\n",
      "=VLOOKUP(A15,'SCRN & PREV'!$A$3:$D$143,4,FALSE)\n",
      "=VLOOKUP(A15,REHAB!_xlnm.Print_Area,2,FALSE)\n",
      "=VLOOKUP(A15,MAMMO!$A$3:$B$7,1,FALSE)\n",
      "=VLOOKUP(A15,COVID!$A$4:$B$105,1,FALSE)\n",
      "=VLOOKUP(A15,'NEW TECH'!$A$5:$C$42,1,FALSE)\n",
      "NO\n",
      "None\n",
      "None\n",
      "\n",
      "\n"
     ]
    },
    {
     "data": {
      "text/markdown": [
       "### **Row 16**\n",
       "        "
      ],
      "text/plain": [
       "<IPython.core.display.Markdown object>"
      ]
     },
     "metadata": {},
     "output_type": "display_data"
    },
    {
     "name": "stdout",
     "output_type": "stream",
     "text": [
      "0019U\n",
      "ONC RNA TISS PREDICT ALG\n",
      "None\n",
      "A\n",
      "None\n",
      "=IF('....'!$E$343>0,0,IF('....'!$AB$85>26,0,VLOOKUP(A16,'J1 PACKAGE LAB'!$A$7:$H$3052,6,FALSE)))\n",
      "=IF('....'!$E$343>0,0,IF('....'!$AB$85>26,0,VLOOKUP(A16,'J1 PACKAGE LAB'!$A$7:$H$3052,7,FALSE)))\n",
      "=IF('....'!$E$343>0,0,IF('....'!$AB$85>26,0,VLOOKUP(A16,'J1 PACKAGE LAB'!$A$7:$H$3052,8,FALSE)))\n",
      "O\n",
      "O\n",
      "0\n",
      "820\n",
      "DAUNORUBICIN INJECTION\n",
      "K\n",
      "None\n",
      "=ROUND((S16),2)\n",
      "=IF(S16=0,0,IF(W16=1600,P16-1600,(P16-T16)))\n",
      "=IF(W16=1600,1600,P16-Q16)\n",
      "31.64\n",
      "=U16\n",
      "6.33\n",
      "=IF(S16=0,$I$1,(S16-T16)/S16)\n",
      "=IF(N16=\"H\",0,IF(P16-1600>=(1-T16/S16)*P16,1600,0))\n",
      "None\n",
      "NO\n",
      "NO\n",
      "=VLOOKUP(A16,'SCRN & PREV'!$A$3:$D$143,4,FALSE)\n",
      "=VLOOKUP(A16,REHAB!_xlnm.Print_Area,2,FALSE)\n",
      "=VLOOKUP(A16,MAMMO!$A$3:$B$7,1,FALSE)\n",
      "=VLOOKUP(A16,COVID!$A$4:$B$105,1,FALSE)\n",
      "=VLOOKUP(A16,'NEW TECH'!$A$5:$C$42,1,FALSE)\n",
      "NO\n",
      "None\n",
      "None\n",
      "\n",
      "\n"
     ]
    },
    {
     "data": {
      "text/markdown": [
       "### **Row 17**\n",
       "        "
      ],
      "text/plain": [
       "<IPython.core.display.Markdown object>"
      ]
     },
     "metadata": {},
     "output_type": "display_data"
    },
    {
     "name": "stdout",
     "output_type": "stream",
     "text": [
      "0022U\n",
      "TGSAP NSM LUNG NEO DNA&RNA23\n",
      "None\n",
      "A\n",
      "None\n",
      "=IF('....'!$E$343>0,0,IF('....'!$AB$85>26,0,VLOOKUP(A17,'J1 PACKAGE LAB'!$A$7:$H$3052,6,FALSE)))\n",
      "=IF('....'!$E$343>0,0,IF('....'!$AB$85>26,0,VLOOKUP(A17,'J1 PACKAGE LAB'!$A$7:$H$3052,7,FALSE)))\n",
      "=IF('....'!$E$343>0,0,IF('....'!$AB$85>26,0,VLOOKUP(A17,'J1 PACKAGE LAB'!$A$7:$H$3052,8,FALSE)))\n",
      "O\n",
      "O\n",
      "0\n",
      "825\n",
      "NELARABINE INJECTION\n",
      "K\n",
      "None\n",
      "=ROUND((S17),2)\n",
      "=IF(S17=0,0,IF(W17=1600,P17-1600,(P17-T17)))\n",
      "=IF(W17=1600,1600,P17-Q17)\n",
      "116.65\n",
      "=U17\n",
      "23.33\n",
      "=IF(S17=0,$I$1,(S17-T17)/S17)\n",
      "=IF(N17=\"H\",0,IF(P17-1600>=(1-T17/S17)*P17,1600,0))\n",
      "None\n",
      "NO\n",
      "NO\n",
      "=VLOOKUP(A17,'SCRN & PREV'!$A$3:$D$143,4,FALSE)\n",
      "=VLOOKUP(A17,REHAB!_xlnm.Print_Area,2,FALSE)\n",
      "=VLOOKUP(A17,MAMMO!$A$3:$B$7,1,FALSE)\n",
      "=VLOOKUP(A17,COVID!$A$4:$B$105,1,FALSE)\n",
      "=VLOOKUP(A17,'NEW TECH'!$A$5:$C$42,1,FALSE)\n",
      "NO\n",
      "None\n",
      "None\n",
      "\n",
      "\n"
     ]
    },
    {
     "data": {
      "text/markdown": [
       "### **Row 18**\n",
       "        "
      ],
      "text/plain": [
       "<IPython.core.display.Markdown object>"
      ]
     },
     "metadata": {},
     "output_type": "display_data"
    },
    {
     "name": "stdout",
     "output_type": "stream",
     "text": [
      "0023U\n",
      "ONC AML DNA DETCJ/NONDETCJ\n",
      "None\n",
      "A\n",
      "None\n",
      "=IF('....'!$E$343>0,0,IF('....'!$AB$85>26,0,VLOOKUP(A18,'J1 PACKAGE LAB'!$A$7:$H$3052,6,FALSE)))\n",
      "=IF('....'!$E$343>0,0,IF('....'!$AB$85>26,0,VLOOKUP(A18,'J1 PACKAGE LAB'!$A$7:$H$3052,7,FALSE)))\n",
      "=IF('....'!$E$343>0,0,IF('....'!$AB$85>26,0,VLOOKUP(A18,'J1 PACKAGE LAB'!$A$7:$H$3052,8,FALSE)))\n",
      "O\n",
      "O\n",
      "0\n",
      "836\n",
      "INTERFERON ALFA-2B INJ\n",
      "K\n",
      "None\n",
      "=ROUND((S18),2)\n",
      "=IF(S18=0,0,IF(W18=1600,P18-1600,(P18-T18)))\n",
      "=IF(W18=1600,1600,P18-Q18)\n",
      "32.57\n",
      "=U18\n",
      "6.52\n",
      "=IF(S18=0,$I$1,(S18-T18)/S18)\n",
      "=IF(N18=\"H\",0,IF(P18-1600>=(1-T18/S18)*P18,1600,0))\n",
      "None\n",
      "NO\n",
      "NO\n",
      "=VLOOKUP(A18,'SCRN & PREV'!$A$3:$D$143,4,FALSE)\n",
      "=VLOOKUP(A18,REHAB!_xlnm.Print_Area,2,FALSE)\n",
      "=VLOOKUP(A18,MAMMO!$A$3:$B$7,1,FALSE)\n",
      "=VLOOKUP(A18,COVID!$A$4:$B$105,1,FALSE)\n",
      "=VLOOKUP(A18,'NEW TECH'!$A$5:$C$42,1,FALSE)\n",
      "NO\n",
      "None\n",
      "None\n",
      "\n",
      "\n"
     ]
    },
    {
     "data": {
      "text/markdown": [
       "### **Row 19**\n",
       "        "
      ],
      "text/plain": [
       "<IPython.core.display.Markdown object>"
      ]
     },
     "metadata": {},
     "output_type": "display_data"
    },
    {
     "name": "stdout",
     "output_type": "stream",
     "text": [
      "0026U\n",
      "ONC THYR DNA&MRNA 112 GENES\n",
      "None\n",
      "A\n",
      "None\n",
      "=IF('....'!$E$343>0,0,IF('....'!$AB$85>26,0,VLOOKUP(A19,'J1 PACKAGE LAB'!$A$7:$H$3052,6,FALSE)))\n",
      "=IF('....'!$E$343>0,0,IF('....'!$AB$85>26,0,VLOOKUP(A19,'J1 PACKAGE LAB'!$A$7:$H$3052,7,FALSE)))\n",
      "=IF('....'!$E$343>0,0,IF('....'!$AB$85>26,0,VLOOKUP(A19,'J1 PACKAGE LAB'!$A$7:$H$3052,8,FALSE)))\n",
      "O\n",
      "O\n",
      "0\n",
      "840\n",
      "INJ MELPHA HYDROCH NOS 50 MG\n",
      "K\n",
      "None\n",
      "=ROUND((S19),2)\n",
      "=IF(S19=0,0,IF(W19=1600,P19-1600,(P19-T19)))\n",
      "=IF(W19=1600,1600,P19-Q19)\n",
      "176.25\n",
      "=U19\n",
      "35.26\n",
      "=IF(S19=0,$I$1,(S19-T19)/S19)\n",
      "=IF(N19=\"H\",0,IF(P19-1600>=(1-T19/S19)*P19,1600,0))\n",
      "None\n",
      "NO\n",
      "NO\n",
      "=VLOOKUP(A19,'SCRN & PREV'!$A$3:$D$143,4,FALSE)\n",
      "=VLOOKUP(A19,REHAB!_xlnm.Print_Area,2,FALSE)\n",
      "=VLOOKUP(A19,MAMMO!$A$3:$B$7,1,FALSE)\n",
      "=VLOOKUP(A19,COVID!$A$4:$B$105,1,FALSE)\n",
      "=VLOOKUP(A19,'NEW TECH'!$A$5:$C$42,1,FALSE)\n",
      "NO\n",
      "None\n",
      "None\n",
      "\n",
      "\n"
     ]
    },
    {
     "data": {
      "text/markdown": [
       "### **Row 20**\n",
       "        "
      ],
      "text/plain": [
       "<IPython.core.display.Markdown object>"
      ]
     },
     "metadata": {},
     "output_type": "display_data"
    },
    {
     "name": "stdout",
     "output_type": "stream",
     "text": [
      "0027U\n",
      "JAK2 GENE TRGT SEQ ALYS\n",
      "None\n",
      "A\n",
      "None\n",
      "=IF('....'!$E$343>0,0,IF('....'!$AB$85>26,0,VLOOKUP(A20,'J1 PACKAGE LAB'!$A$7:$H$3052,6,FALSE)))\n",
      "=IF('....'!$E$343>0,0,IF('....'!$AB$85>26,0,VLOOKUP(A20,'J1 PACKAGE LAB'!$A$7:$H$3052,7,FALSE)))\n",
      "=IF('....'!$E$343>0,0,IF('....'!$AB$85>26,0,VLOOKUP(A20,'J1 PACKAGE LAB'!$A$7:$H$3052,8,FALSE)))\n",
      "O\n",
      "O\n",
      "0\n",
      "843\n",
      "PEGASPARGASE INJECTION\n",
      "K\n",
      "None\n",
      "=ROUND((S20),2)\n",
      "=IF(S20=0,0,IF(W20=1600,P20-1600,(P20-T20)))\n",
      "=IF(W20=1600,1600,P20-Q20)\n",
      "25781.46\n",
      "=U20\n",
      "4997.05\n",
      "=IF(S20=0,$I$1,(S20-T20)/S20)\n",
      "=IF(N20=\"H\",0,IF(P20-1600>=(1-T20/S20)*P20,1600,0))\n",
      "None\n",
      "NO\n",
      "NO\n",
      "=VLOOKUP(A20,'SCRN & PREV'!$A$3:$D$143,4,FALSE)\n",
      "=VLOOKUP(A20,REHAB!_xlnm.Print_Area,2,FALSE)\n",
      "=VLOOKUP(A20,MAMMO!$A$3:$B$7,1,FALSE)\n",
      "=VLOOKUP(A20,COVID!$A$4:$B$105,1,FALSE)\n",
      "=VLOOKUP(A20,'NEW TECH'!$A$5:$C$42,1,FALSE)\n",
      "NO\n",
      "None\n",
      "None\n",
      "\n",
      "\n"
     ]
    }
   ],
   "source": [
    "# print out details from different sheets\n",
    "sheet = excel_file['.']\n",
    "pretty_print_title(\"Sheet title\", sheet.title)\n",
    "pretty_print_title(\"sheet state\", sheet.sheet_state)\n",
    "pretty_print_title(\"sheet view\", sheet.sheet_view)\n",
    "pretty_print_title(\"sheet format\", sheet.sheet_format)\n",
    "pretty_print_title(\"sheet properties\", sheet.sheet_properties)\n",
    "\n",
    "# print out all the rows 15 to 20\n",
    "for row in sheet.iter_rows(min_row=15, max_row=20):\n",
    "    pretty_print_title(f\"Row {row[0].row}\", \"\")\n",
    "    for cell in row:\n",
    "        print(cell.value)\n",
    "    print(\"\\n\")"
   ]
  },
  {
   "cell_type": "code",
   "execution_count": null,
   "metadata": {},
   "outputs": [],
   "source": []
  },
  {
   "cell_type": "code",
   "execution_count": 8,
   "metadata": {},
   "outputs": [
    {
     "name": "stdout",
     "output_type": "stream",
     "text": [
      "=IF(M19=0,L15,L16)\n"
     ]
    }
   ],
   "source": [
    "# get the claim input sheet\n",
    "claim_input_sheet = excel_file[\"CLAIM INPUT\"]\n",
    "\n",
    "# get the value of cell A1\n",
    "cell_A1 = claim_input_sheet[\"A1\"]\n",
    "print(cell_A1.value)"
   ]
  },
  {
   "cell_type": "code",
   "execution_count": null,
   "metadata": {},
   "outputs": [],
   "source": [
    "\n",
    "def decrypt_excel(file_path, password, output_file):\n",
    "    # Open the encrypted file\n",
    "    with open(file_path, \"rb\") as encrypted_file:\n",
    "        office_file = msoffcrypto.OfficeFile(encrypted_file)\n",
    "\n",
    "        # Specify the password\n",
    "        office_file.load_key(password=password)\n",
    "\n",
    "        # Write the decrypted file\n",
    "        with open(output_file, \"wb\") as decrypted_file:\n",
    "            office_file.decrypt(decrypted_file)\n",
    "\n",
    "# Usage\n",
    "decrypt_excel(\"path_to_encrypted_file.xlsx\", \"your_password\", \"decrypted_file.xlsx\")\n"
   ]
  }
 ],
 "metadata": {
  "kernelspec": {
   "display_name": "venv",
   "language": "python",
   "name": "python3"
  },
  "language_info": {
   "codemirror_mode": {
    "name": "ipython",
    "version": 3
   },
   "file_extension": ".py",
   "mimetype": "text/x-python",
   "name": "python",
   "nbconvert_exporter": "python",
   "pygments_lexer": "ipython3",
   "version": "3.12.1"
  }
 },
 "nbformat": 4,
 "nbformat_minor": 2
}
