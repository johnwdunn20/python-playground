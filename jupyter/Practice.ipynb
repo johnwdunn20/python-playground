{
 "cells": [
  {
   "cell_type": "code",
   "execution_count": 2,
   "id": "d77efe0b",
   "metadata": {},
   "outputs": [
    {
     "name": "stdout",
     "output_type": "stream",
     "text": [
      "local x\n",
      "global x\n"
     ]
    }
   ],
   "source": [
    "x = 'global x' \n",
    "def my_func():\n",
    "#     global x\n",
    "    x = 'local x'\n",
    "    print(x)\n",
    "    \n",
    "my_func()\n",
    "print(x)\n",
    "# print(val)"
   ]
  },
  {
   "cell_type": "code",
   "execution_count": 47,
   "id": "401307a3",
   "metadata": {},
   "outputs": [
    {
     "name": "stdout",
     "output_type": "stream",
     "text": [
      "called 1 time\n",
      "already called\n",
      "already called\n",
      "already called\n",
      "already called\n"
     ]
    }
   ],
   "source": [
    "def invoke_once():\n",
    "    x = 0\n",
    "    def inner():\n",
    "        nonlocal x\n",
    "        if x > 0:\n",
    "            return 'already called'\n",
    "        x += 1\n",
    "        return f'called {x} time'\n",
    "    return inner\n",
    "\n",
    "new_func = invoke_once()\n",
    "\n",
    "print(new_func())\n",
    "print(new_func())\n",
    "print(new_func())\n",
    "print(new_func())\n",
    "print(new_func())\n",
    "\n",
    "\n",
    "    "
   ]
  },
  {
   "cell_type": "code",
   "execution_count": 53,
   "id": "05a5b774",
   "metadata": {},
   "outputs": [
    {
     "name": "stdout",
     "output_type": "stream",
     "text": [
      "[1]\n",
      "already called\n",
      "already called\n",
      "already called\n",
      "already called\n"
     ]
    }
   ],
   "source": [
    "def invoke_once2():\n",
    "    x = []\n",
    "    def inner():\n",
    "        if len(x) > 0:\n",
    "            return 'already called'\n",
    "        x.append(1)\n",
    "        return x\n",
    "    return inner\n",
    "\n",
    "new_func2 = invoke_once2()\n",
    "\n",
    "print(new_func2())\n",
    "print(new_func2())\n",
    "print(new_func2())\n",
    "print(new_func2())\n",
    "print(new_func2())\n"
   ]
  },
  {
   "cell_type": "markdown",
   "id": "4fd95d54",
   "metadata": {},
   "source": [
    "# Problem: Filter and Square\n",
    "Write a Python function filter_and_square that takes a list of integers as input. The function should:\n",
    "\n",
    "Filter out all negative numbers from the list.\n",
    "Square the remaining numbers.\n",
    "Return the new list with these squared numbers.\n"
   ]
  },
  {
   "cell_type": "code",
   "execution_count": 56,
   "id": "fa9ba384",
   "metadata": {},
   "outputs": [
    {
     "data": {
      "text/plain": [
       "[1, 4, 9, 16, 25]"
      ]
     },
     "execution_count": 56,
     "metadata": {},
     "output_type": "execute_result"
    }
   ],
   "source": [
    "def filter_and_square(int_list):\n",
    "    return [x**2 for x in int_list if x >0]\n",
    "\n",
    "filter_and_square([1,2,3,4,5,-9,-8])"
   ]
  },
  {
   "cell_type": "markdown",
   "id": "99bf4170",
   "metadata": {},
   "source": [
    "# Problem: Advanced Greeting\n",
    "Write a Python function named advanced_greeting that takes two arguments:\n",
    "\n",
    "name: A string representing the name of the person.\n",
    "time_of_day: A string that can be \"morning\", \"afternoon\", or \"evening\", with a default value of \"day\".\n",
    "The function should return a greeting string that incorporates both the name and the time of day. If time_of_day is not one of the expected values, it should use its default value in the greeting."
   ]
  },
  {
   "cell_type": "code",
   "execution_count": 64,
   "id": "8cf2124a",
   "metadata": {},
   "outputs": [
    {
     "name": "stdout",
     "output_type": "stream",
     "text": [
      "Hello, John. Good morning\n",
      "Hello, Elisabeth. Good afternoon\n",
      "Hello, Hannah. Good day\n"
     ]
    }
   ],
   "source": [
    "def advanced_greeting(name, time_of_day='day'):\n",
    "    valid_times =  ['morning','afternoon', 'evening']\n",
    "    greeting = time_of_day if time_of_day in valid_times else 'day'\n",
    "    return f'Hello, {name}. Good {greeting}'\n",
    "\n",
    "print(advanced_greeting('John', 'morning'))\n",
    "print(advanced_greeting('Elisabeth', 'afternoon'))\n",
    "print(advanced_greeting('Hannah', 'other'))"
   ]
  },
  {
   "cell_type": "markdown",
   "id": "db1c992a",
   "metadata": {},
   "source": [
    "# Problem: Dynamic Multiplier Functions\n",
    "Write a Python function called create_multiplier that takes a number n as its argument and returns a new function. This returned function should take one argument x and return the product of x and n. Essentially, you're dynamically creating and returning functions that multiply by n.\n",
    "\n",
    "This exercise showcases Python's ability to treat functions as first-class citizens, allowing you to dynamically create and use functions within other functions."
   ]
  },
  {
   "cell_type": "code",
   "execution_count": 66,
   "id": "6f987f60",
   "metadata": {},
   "outputs": [
    {
     "name": "stdout",
     "output_type": "stream",
     "text": [
      "20\n",
      "30\n"
     ]
    }
   ],
   "source": [
    "def create_multiplier(n):\n",
    "    def inner(x):\n",
    "        return x * n\n",
    "    return inner\n",
    "    \n",
    "double = create_multiplier(2)\n",
    "print(double(10))\n",
    "triple = create_multiplier(3)\n",
    "print(triple(10))"
   ]
  },
  {
   "cell_type": "markdown",
   "id": "a78c375b",
   "metadata": {},
   "source": [
    "# Problem: Accumulating Append\n",
    "Write a Python function named accumulating_append that takes two arguments:\n",
    "\n",
    "lst (a list to which a new item will be appended)\n",
    "item (the item to append to the list)\n",
    "The tricky part: make lst have a default value of an empty list, but in a way that avoids the common pitfall of using mutable default arguments."
   ]
  },
  {
   "cell_type": "code",
   "execution_count": 71,
   "id": "86208bb8",
   "metadata": {},
   "outputs": [
    {
     "name": "stdout",
     "output_type": "stream",
     "text": [
      "['hello']\n",
      "['hello']\n",
      "['hello']\n"
     ]
    }
   ],
   "source": [
    "def accumulating_append(item, lst = None):\n",
    "    if not lst:\n",
    "        lst = []\n",
    "    lst.append(item)\n",
    "    return lst\n",
    "\n",
    "print(accumulating_append(item='hello'))\n",
    "print(accumulating_append(item='hello'))\n",
    "print(accumulating_append(item='hello'))"
   ]
  },
  {
   "cell_type": "markdown",
   "id": "b600e1b5",
   "metadata": {},
   "source": [
    "# Problem: Logging Decorator\n",
    "Write a Python decorator named log_call that wraps any function it decorates by printing a message before and after its execution. The message should include the name of the function being called."
   ]
  },
  {
   "cell_type": "code",
   "execution_count": 89,
   "id": "efa015b9",
   "metadata": {},
   "outputs": [
    {
     "name": "stdout",
     "output_type": "stream",
     "text": [
      "**** Basic decorator ****\n",
      "hello\n",
      "before func is called\n",
      "hello\n",
      "after func is called\n",
      "\n",
      "\n",
      "**** @ function for decorators *****\n",
      "before func is called\n",
      "hi\n",
      "after func is called\n",
      "\n",
      " **** Decorators with Arguements ****\n"
     ]
    }
   ],
   "source": [
    "# basic decorator\n",
    "print('**** Basic decorator ****')\n",
    "def my_decorator(func):\n",
    "    def wrapper():\n",
    "        print('before func is called')\n",
    "        func()\n",
    "        print('after func is called')\n",
    "    return wrapper\n",
    "        \n",
    "def say_hello():\n",
    "    print('hello')\n",
    "\n",
    "say_hello() # no decorator\n",
    "say_hello = my_decorator(say_hello)\n",
    "say_hello()\n",
    "\n",
    "# @ function for decorators - this is equivalent to \"say_hello = my_decorator(say_hello)\"\n",
    "print('\\n')\n",
    "print('**** @ function for decorators *****')\n",
    "@my_decorator\n",
    "def say_hi():\n",
    "    print('hi')\n",
    "    \n",
    "say_hi()\n",
    "\n",
    "# Decorators with Arguments - requires another level of function nesting\n",
    "print('\\n **** Decorators with Arguements ****')\n",
    "\n",
    "    "
   ]
  }
 ],
 "metadata": {
  "kernelspec": {
   "display_name": "Python 3 (ipykernel)",
   "language": "python",
   "name": "python3"
  },
  "language_info": {
   "codemirror_mode": {
    "name": "ipython",
    "version": 3
   },
   "file_extension": ".py",
   "mimetype": "text/x-python",
   "name": "python",
   "nbconvert_exporter": "python",
   "pygments_lexer": "ipython3",
   "version": "3.11.5"
  }
 },
 "nbformat": 4,
 "nbformat_minor": 5
}
