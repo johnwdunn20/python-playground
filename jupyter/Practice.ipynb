{
 "cells": [
  {
   "cell_type": "code",
   "execution_count": 2,
   "id": "d77efe0b",
   "metadata": {},
   "outputs": [
    {
     "name": "stdout",
     "output_type": "stream",
     "text": [
      "local x\n",
      "global x\n"
     ]
    }
   ],
   "source": [
    "x = 'global x' \n",
    "def my_func():\n",
    "#     global x\n",
    "    x = 'local x'\n",
    "    print(x)\n",
    "    \n",
    "my_func()\n",
    "print(x)\n",
    "# print(val)"
   ]
  },
  {
   "cell_type": "code",
   "execution_count": 47,
   "id": "401307a3",
   "metadata": {},
   "outputs": [
    {
     "name": "stdout",
     "output_type": "stream",
     "text": [
      "called 1 time\n",
      "already called\n",
      "already called\n",
      "already called\n",
      "already called\n"
     ]
    }
   ],
   "source": [
    "def invoke_once():\n",
    "    x = 0\n",
    "    def inner():\n",
    "        nonlocal x\n",
    "        if x > 0:\n",
    "            return 'already called'\n",
    "        x += 1\n",
    "        return f'called {x} time'\n",
    "    return inner\n",
    "\n",
    "new_func = invoke_once()\n",
    "\n",
    "print(new_func())\n",
    "print(new_func())\n",
    "print(new_func())\n",
    "print(new_func())\n",
    "print(new_func())\n",
    "\n",
    "\n",
    "    "
   ]
  },
  {
   "cell_type": "code",
   "execution_count": 53,
   "id": "05a5b774",
   "metadata": {},
   "outputs": [
    {
     "name": "stdout",
     "output_type": "stream",
     "text": [
      "[1]\n",
      "already called\n",
      "already called\n",
      "already called\n",
      "already called\n"
     ]
    }
   ],
   "source": [
    "def invoke_once2():\n",
    "    x = []\n",
    "    def inner():\n",
    "        if len(x) > 0:\n",
    "            return 'already called'\n",
    "        x.append(1)\n",
    "        return x\n",
    "    return inner\n",
    "\n",
    "new_func2 = invoke_once2()\n",
    "\n",
    "print(new_func2())\n",
    "print(new_func2())\n",
    "print(new_func2())\n",
    "print(new_func2())\n",
    "print(new_func2())\n"
   ]
  },
  {
   "cell_type": "markdown",
   "id": "4fd95d54",
   "metadata": {},
   "source": [
    "# Problem: Filter and Square\n",
    "Write a Python function filter_and_square that takes a list of integers as input. The function should:\n",
    "\n",
    "Filter out all negative numbers from the list.\n",
    "Square the remaining numbers.\n",
    "Return the new list with these squared numbers.\n"
   ]
  },
  {
   "cell_type": "code",
   "execution_count": 56,
   "id": "fa9ba384",
   "metadata": {},
   "outputs": [
    {
     "data": {
      "text/plain": [
       "[1, 4, 9, 16, 25]"
      ]
     },
     "execution_count": 56,
     "metadata": {},
     "output_type": "execute_result"
    }
   ],
   "source": [
    "def filter_and_square(int_list):\n",
    "    return [x**2 for x in int_list if x >0]\n",
    "\n",
    "filter_and_square([1,2,3,4,5,-9,-8])"
   ]
  },
  {
   "cell_type": "markdown",
   "id": "99bf4170",
   "metadata": {},
   "source": [
    "# Problem: Advanced Greeting\n",
    "Write a Python function named advanced_greeting that takes two arguments:\n",
    "\n",
    "name: A string representing the name of the person.\n",
    "time_of_day: A string that can be \"morning\", \"afternoon\", or \"evening\", with a default value of \"day\".\n",
    "The function should return a greeting string that incorporates both the name and the time of day. If time_of_day is not one of the expected values, it should use its default value in the greeting."
   ]
  },
  {
   "cell_type": "code",
   "execution_count": 64,
   "id": "8cf2124a",
   "metadata": {},
   "outputs": [
    {
     "name": "stdout",
     "output_type": "stream",
     "text": [
      "Hello, John. Good morning\n",
      "Hello, Elisabeth. Good afternoon\n",
      "Hello, Hannah. Good day\n"
     ]
    }
   ],
   "source": [
    "def advanced_greeting(name, time_of_day='day'):\n",
    "    valid_times =  ['morning','afternoon', 'evening']\n",
    "    greeting = time_of_day if time_of_day in valid_times else 'day'\n",
    "    return f'Hello, {name}. Good {greeting}'\n",
    "\n",
    "print(advanced_greeting('John', 'morning'))\n",
    "print(advanced_greeting('Elisabeth', 'afternoon'))\n",
    "print(advanced_greeting('Hannah', 'other'))"
   ]
  },
  {
   "cell_type": "markdown",
   "id": "db1c992a",
   "metadata": {},
   "source": [
    "# Problem: Dynamic Multiplier Functions\n",
    "Write a Python function called create_multiplier that takes a number n as its argument and returns a new function. This returned function should take one argument x and return the product of x and n. Essentially, you're dynamically creating and returning functions that multiply by n.\n",
    "\n",
    "This exercise showcases Python's ability to treat functions as first-class citizens, allowing you to dynamically create and use functions within other functions."
   ]
  },
  {
   "cell_type": "code",
   "execution_count": 66,
   "id": "6f987f60",
   "metadata": {},
   "outputs": [
    {
     "name": "stdout",
     "output_type": "stream",
     "text": [
      "20\n",
      "30\n"
     ]
    }
   ],
   "source": [
    "def create_multiplier(n):\n",
    "    def inner(x):\n",
    "        return x * n\n",
    "    return inner\n",
    "    \n",
    "double = create_multiplier(2)\n",
    "print(double(10))\n",
    "triple = create_multiplier(3)\n",
    "print(triple(10))"
   ]
  },
  {
   "cell_type": "markdown",
   "id": "a78c375b",
   "metadata": {},
   "source": [
    "# Problem: Accumulating Append\n",
    "Write a Python function named accumulating_append that takes two arguments:\n",
    "\n",
    "lst (a list to which a new item will be appended)\n",
    "item (the item to append to the list)\n",
    "The tricky part: make lst have a default value of an empty list, but in a way that avoids the common pitfall of using mutable default arguments."
   ]
  },
  {
   "cell_type": "code",
   "execution_count": 71,
   "id": "86208bb8",
   "metadata": {},
   "outputs": [
    {
     "name": "stdout",
     "output_type": "stream",
     "text": [
      "['hello']\n",
      "['hello']\n",
      "['hello']\n"
     ]
    }
   ],
   "source": [
    "def accumulating_append(item, lst = None):\n",
    "    if not lst:\n",
    "        lst = []\n",
    "    lst.append(item)\n",
    "    return lst\n",
    "\n",
    "print(accumulating_append(item='hello'))\n",
    "print(accumulating_append(item='hello'))\n",
    "print(accumulating_append(item='hello'))"
   ]
  },
  {
   "cell_type": "markdown",
   "id": "b600e1b5",
   "metadata": {},
   "source": [
    "# Problem: Logging Decorator\n",
    "Write a Python decorator named log_call that wraps any function it decorates by printing a message before and after its execution. The message should include the name of the function being called."
   ]
  },
  {
   "cell_type": "code",
   "execution_count": 89,
   "id": "efa015b9",
   "metadata": {},
   "outputs": [
    {
     "name": "stdout",
     "output_type": "stream",
     "text": [
      "**** Basic decorator ****\n",
      "hello\n",
      "before func is called\n",
      "hello\n",
      "after func is called\n",
      "\n",
      "\n",
      "**** @ function for decorators *****\n",
      "before func is called\n",
      "hi\n",
      "after func is called\n",
      "\n",
      " **** Decorators with Arguements ****\n"
     ]
    }
   ],
   "source": [
    "# basic decorator\n",
    "print('**** Basic decorator ****')\n",
    "def my_decorator(func):\n",
    "    def wrapper():\n",
    "        print('before func is called')\n",
    "        func()\n",
    "        print('after func is called')\n",
    "    return wrapper\n",
    "        \n",
    "def say_hello():\n",
    "    print('hello')\n",
    "\n",
    "say_hello() # no decorator\n",
    "say_hello = my_decorator(say_hello)\n",
    "say_hello()\n",
    "\n",
    "# @ function for decorators - this is equivalent to \"say_hello = my_decorator(say_hello)\"\n",
    "print('\\n')\n",
    "print('**** @ function for decorators *****')\n",
    "@my_decorator\n",
    "def say_hi():\n",
    "    print('hi')\n",
    "    \n",
    "say_hi()\n",
    "\n",
    "# Decorators with Arguments - requires another level of function nesting\n",
    "print('\\n **** Decorators with Arguements ****')\n",
    "\n",
    "    "
   ]
  },
  {
   "cell_type": "markdown",
   "id": "b059c265",
   "metadata": {},
   "source": [
    "# NumPy"
   ]
  },
  {
   "cell_type": "code",
   "execution_count": 15,
   "id": "587ad46c",
   "metadata": {},
   "outputs": [
    {
     "name": "stdout",
     "output_type": "stream",
     "text": [
      "86\n",
      "The first column with at least one non-zero row is at index 0.\n",
      "[86 53 86 11  7 88 58 49 17 43 16  8 50  3  0 75 37 28 95  7 93 89 23 62\n",
      " 83 75 46 94 92 70 33 38 15 26 53  0 77  3 24 46 53 19 40 18 34 84 12 96\n",
      "  5  1 43 22 80 63 21 47 76 32 80 73 12 19 24 65 84 39 86 61 69  1 77 80\n",
      " 73 78 60 26 93 10  4 69  4 46 94 35  5 46]\n"
     ]
    }
   ],
   "source": [
    "import numpy as np\n",
    "\n",
    "# Assuming DS_array is your array\n",
    "DS_array = np.random.randint(0, 100, (12108, 86))  # Replace this with your actual array\n",
    "print(DS_array.shape[1])\n",
    "\n",
    "# Initialize variable to hold the index of the first non-empty column\n",
    "first_non_empty_column = None\n",
    "\n",
    "# Loop through the columns\n",
    "for col_idx in range(DS_array.shape[1]):\n",
    "    if np.any(DS_array[:, col_idx]):\n",
    "        first_non_empty_column = col_idx\n",
    "        break\n",
    "\n",
    "if first_non_empty_column is not None:\n",
    "    print(f\"The first column with at least one non-zero row is at index {first_non_empty_column}.\")\n",
    "else:\n",
    "    print(\"No non-zero rows found in any column.\")\n",
    "\n",
    "print(DS_array[0])"
   ]
  },
  {
   "cell_type": "code",
   "execution_count": 20,
   "id": "af9215f0",
   "metadata": {},
   "outputs": [
    {
     "name": "stdout",
     "output_type": "stream",
     "text": [
      "First non-zero rows: [0, 3, 0, 0, 0, 0, 3, 2, 0, 10, 0, 2, 1, 0, 2, 0, 8, 2, 1, 0, 0, 0, 1, 1, 0, 0, 4, 0, 1, 2, 2, 0, 2, 0, 0, 1, 0, 0, 1, 1, 0, 0, 1, 1, 3, 1, 1, 0, 0, 0, 0, 2, 1, 0, 2, 1, 0, 0, 1, 0, 2, 2, 1, 2, 0, 3, 1, 0, 2, 0, 0, 2, 1, 0, 0, 0, 0, 4, 0, 0, 1, 3, 1, 0, 2, 1]\n",
      "Last non-zero rows: [12105, 12107, 12106, 12106, 12107, 12107, 12107, 12106, 12106, 12104, 12107, 12107, 12107, 12104, 12107, 12105, 12101, 12100, 12107, 12107, 12107, 12106, 12104, 12107, 12104, 12107, 12093, 12107, 12106, 12107, 12106, 12106, 12107, 12106, 12107, 12107, 12100, 12105, 12107, 12107, 12106, 12107, 12103, 12107, 12105, 12105, 12104, 12106, 12104, 12105, 12106, 12107, 12107, 12106, 12107, 12107, 12106, 12106, 12104, 12107, 12107, 12107, 12107, 12106, 12107, 12107, 12099, 12106, 12107, 12107, 12107, 12107, 12106, 12107, 12106, 12107, 12106, 12107, 12107, 12106, 12107, 12106, 12106, 12104, 12107, 12104]\n"
     ]
    }
   ],
   "source": [
    "import numpy as np\n",
    "\n",
    "# Assuming DS_array is your array\n",
    "DS_array = np.random.randint(0, 2, (12108, 86))  # Replace this with your actual array\n",
    "\n",
    "# Initialize variables to hold the first and last non-zero row indices for each column\n",
    "first_non_zero_rows = []\n",
    "last_non_zero_rows = []\n",
    "\n",
    "# Loop through each column to find the first and last non-zero rows\n",
    "for col_idx in range(DS_array.shape[1]):\n",
    "    non_zero_rows = np.where(DS_array[:, col_idx] != 0)[0]\n",
    "    if non_zero_rows.size > 0:\n",
    "        first_non_zero_rows.append(non_zero_rows[0])\n",
    "        last_non_zero_rows.append(non_zero_rows[-1])\n",
    "    else:\n",
    "        first_non_zero_rows.append(None)\n",
    "        last_non_zero_rows.append(None)\n",
    "\n",
    "# Now first_non_zero_rows and last_non_zero_rows hold the indices of the first and last non-zero rows for each column\n",
    "print(\"First non-zero rows:\", first_non_zero_rows)\n",
    "print(\"Last non-zero rows:\", last_non_zero_rows)\n"
   ]
  },
  {
   "cell_type": "code",
   "execution_count": 21,
   "id": "2e1672e3",
   "metadata": {
    "scrolled": true
   },
   "outputs": [
    {
     "name": "stdout",
     "output_type": "stream",
     "text": [
      "First non-zero rows: [ 0  3  0  0  0  0  3  2  0 10  0  2  1  0  2  0  8  2  1  0  0  0  1  1\n",
      "  0  0  4  0  1  2  2  0  2  0  0  1  0  0  1  1  0  0  1  1  3  1  1  0\n",
      "  0  0  0  2  1  0  2  1  0  0  1  0  2  2  1  2  0  3  1  0  2  0  0  2\n",
      "  1  0  0  0  0  4  0  0  1  3  1  0  2  1]\n",
      "Last non-zero rows: [12105 12107 12106 12106 12107 12107 12107 12106 12106 12104 12107 12107\n",
      " 12107 12104 12107 12105 12101 12100 12107 12107 12107 12106 12104 12107\n",
      " 12104 12107 12093 12107 12106 12107 12106 12106 12107 12106 12107 12107\n",
      " 12100 12105 12107 12107 12106 12107 12103 12107 12105 12105 12104 12106\n",
      " 12104 12105 12106 12107 12107 12106 12107 12107 12106 12106 12104 12107\n",
      " 12107 12107 12107 12106 12107 12107 12099 12106 12107 12107 12107 12107\n",
      " 12106 12107 12106 12107 12106 12107 12107 12106 12107 12106 12106 12104\n",
      " 12107 12104]\n"
     ]
    }
   ],
   "source": [
    "# Find the rows where each column is non-zero\n",
    "non_zero_rows = np.any(DS_array != 0, axis=1)\n",
    "\n",
    "# Get the row indices where each column is non-zero\n",
    "non_zero_row_indices = np.where(non_zero_rows)[0]\n",
    "\n",
    "# Initialize arrays to hold the first and last non-zero rows for each column\n",
    "first_non_zero_rows = np.zeros(DS_array.shape[1], dtype=int) - 1  # Initialize with -1 to indicate \"not found\"\n",
    "last_non_zero_rows = np.zeros(DS_array.shape[1], dtype=int) - 1  # Initialize with -1 to indicate \"not found\"\n",
    "\n",
    "# For columns that have at least one non-zero row, find the first and last such rows\n",
    "if len(non_zero_row_indices) > 0:\n",
    "    for col_idx in range(DS_array.shape[1]):\n",
    "        col_non_zero_rows = np.where(DS_array[:, col_idx] != 0)[0]\n",
    "        if col_non_zero_rows.size > 0:\n",
    "            first_non_zero_rows[col_idx] = col_non_zero_rows[0]\n",
    "            last_non_zero_rows[col_idx] = col_non_zero_rows[-1]\n",
    "\n",
    "# Now first_non_zero_rows and last_non_zero_rows hold the indices of the first and last non-zero rows for each column\n",
    "print(\"First non-zero rows:\", first_non_zero_rows)\n",
    "print(\"Last non-zero rows:\", last_non_zero_rows)\n"
   ]
  },
  {
   "cell_type": "code",
   "execution_count": 25,
   "id": "8826fc8d",
   "metadata": {},
   "outputs": [
    {
     "ename": "IndexError",
     "evalue": "index 86 is out of bounds for axis 0 with size 86",
     "output_type": "error",
     "traceback": [
      "\u001b[0;31m---------------------------------------------------------------------------\u001b[0m",
      "\u001b[0;31mIndexError\u001b[0m                                Traceback (most recent call last)",
      "Cell \u001b[0;32mIn[25], line 14\u001b[0m\n\u001b[1;32m     11\u001b[0m last_non_zero_rows \u001b[38;5;241m=\u001b[39m np\u001b[38;5;241m.\u001b[39mfull(DS_array\u001b[38;5;241m.\u001b[39mshape[\u001b[38;5;241m1\u001b[39m], \u001b[38;5;241m-\u001b[39m\u001b[38;5;241m1\u001b[39m)\n\u001b[1;32m     13\u001b[0m \u001b[38;5;66;03m# Fill the first and last non-zero row indices arrays\u001b[39;00m\n\u001b[0;32m---> 14\u001b[0m np\u001b[38;5;241m.\u001b[39mminimum\u001b[38;5;241m.\u001b[39mat(first_non_zero_rows, col_indices, row_indices)\n\u001b[1;32m     15\u001b[0m np\u001b[38;5;241m.\u001b[39mmaximum\u001b[38;5;241m.\u001b[39mat(last_non_zero_rows, col_indices, row_indices)\n\u001b[1;32m     17\u001b[0m \u001b[38;5;66;03m# Replace -1 with None where no non-zero row was found\u001b[39;00m\n",
      "\u001b[0;31mIndexError\u001b[0m: index 86 is out of bounds for axis 0 with size 86"
     ]
    }
   ],
   "source": [
    "\n",
    "# Identify the rows with non-zero entries for each column\n",
    "non_zero_rows = np.where(DS_array != 0)\n",
    "# print(non_zero_rows)\n",
    "\n",
    "# Get the column indices and corresponding row indices\n",
    "col_indices, row_indices = non_zero_rows\n",
    "\n",
    "# Create arrays to hold the first and last non-zero row indices for each column\n",
    "# Initialize them with -1 to indicate that no non-zero row has been found\n",
    "first_non_zero_rows = np.full(DS_array.shape[1], -1)\n",
    "last_non_zero_rows = np.full(DS_array.shape[1], -1)\n",
    "\n",
    "# Fill the first and last non-zero row indices arrays\n",
    "np.minimum.at(first_non_zero_rows, col_indices, row_indices)\n",
    "np.maximum.at(last_non_zero_rows, col_indices, row_indices)\n",
    "\n",
    "# Replace -1 with None where no non-zero row was found\n",
    "first_non_zero_rows[first_non_zero_rows == -1] = None\n",
    "last_non_zero_rows[last_non_zero_rows == -1] = None\n",
    "\n",
    "print(\"First non-zero rows:\", first_non_zero_rows)\n",
    "print(\"Last non-zero rows:\", last_non_zero_rows)\n"
   ]
  },
  {
   "cell_type": "code",
   "execution_count": 26,
   "id": "03b1c1cd",
   "metadata": {
    "scrolled": true
   },
   "outputs": [
    {
     "name": "stdout",
     "output_type": "stream",
     "text": [
      "First non-zero rows: [ 0  3  0  0  0  0  3  2  0 10  0  2  1  0  2  0  8  2  1  0  0  0  1  1\n",
      "  0  0  4  0  1  2  2  0  2  0  0  1  0  0  1  1  0  0  1  1  3  1  1  0\n",
      "  0  0  0  2  1  0  2  1  0  0  1  0  2  2  1  2  0  3  1  0  2  0  0  2\n",
      "  1  0  0  0  0  4  0  0  1  3  1  0  2  1]\n",
      "Last non-zero rows: [12105 12107 12106 12106 12107 12107 12107 12106 12106 12104 12107 12107\n",
      " 12107 12104 12107 12105 12101 12100 12107 12107 12107 12106 12104 12107\n",
      " 12104 12107 12093 12107 12106 12107 12106 12106 12107 12106 12107 12107\n",
      " 12100 12105 12107 12107 12106 12107 12103 12107 12105 12105 12104 12106\n",
      " 12104 12105 12106 12107 12107 12106 12107 12107 12106 12106 12104 12107\n",
      " 12107 12107 12107 12106 12107 12107 12099 12106 12107 12107 12107 12107\n",
      " 12106 12107 12106 12107 12106 12107 12107 12106 12107 12106 12106 12104\n",
      " 12107 12104]\n"
     ]
    }
   ],
   "source": [
    "non_zero_mask = DS_array != 0\n",
    "\n",
    "# Find indices of the first and last non-zero elements in each column\n",
    "first_non_zero_rows = np.argmax(non_zero_mask, axis=0)\n",
    "last_non_zero_rows = DS_array.shape[0] - 1 - np.argmax(non_zero_mask[::-1, :], axis=0)\n",
    "\n",
    "# Validate if columns contain any non-zero elements\n",
    "# If a column contains only zeros, np.argmax would incorrectly return 0 as the index of the first non-zero element\n",
    "valid_first = np.any(non_zero_mask, axis=0)\n",
    "first_non_zero_rows[~valid_first] = -1  # Set indices to -1 or another placeholder for \"no non-zero elements\"\n",
    "last_non_zero_rows[~valid_first] = -1\n",
    "\n",
    "print(\"First non-zero rows:\", first_non_zero_rows)\n",
    "print(\"Last non-zero rows:\", last_non_zero_rows)"
   ]
  },
  {
   "cell_type": "code",
   "execution_count": 76,
   "id": "9c6444f4",
   "metadata": {},
   "outputs": [
    {
     "data": {
      "text/plain": [
       "True"
      ]
     },
     "execution_count": 76,
     "metadata": {},
     "output_type": "execute_result"
    }
   ],
   "source": [
    "class Solution:\n",
    "    def isPalindrome(self, s: str) -> bool:\n",
    "        start = 0\n",
    "        end = len(s) - 1\n",
    "        while start < end:\n",
    "            # update start until we get a alpha character\n",
    "            while start < end and not s[start].isalnum():\n",
    "                start += 1\n",
    "\n",
    "            # update end until we get a alpha character\n",
    "            while start < end and not s[end].isalnum():\n",
    "                end -= 1\n",
    "\n",
    "            # Compare lower versions of characters at start and end. If not the same, return False\n",
    "            if s[start].lower() != s[end].lower():\n",
    "                return False\n",
    "            # If they are the same, continue looping and increment/decrement each by 1\n",
    "            start += 1\n",
    "            end -= 1\n",
    "        \n",
    "        # After checking all character, return True\n",
    "        return True\n",
    "\n",
    "        \n",
    "my_solution = Solution()\n",
    "my_solution.isPalindrome( \"A man, a plan, a canal: Panama\")\n",
    "my_solution.isPalindrome(\"race a car\")\n",
    "my_solution.isPalindrome( \".,\")\n"
   ]
  },
  {
   "cell_type": "code",
   "execution_count": 70,
   "id": "abb5945e",
   "metadata": {},
   "outputs": [
    {
     "name": "stdout",
     "output_type": "stream",
     "text": [
      "abcd4\n"
     ]
    }
   ],
   "source": [
    "counts = [0] * 26\n",
    "''.join(map(str, counts))\n",
    "\n",
    "my_arr = ['a','b','c','d',4]\n",
    "print(''.join(map(str, my_arr)))"
   ]
  },
  {
   "cell_type": "code",
   "execution_count": 89,
   "id": "3c1b5f30",
   "metadata": {},
   "outputs": [
    {
     "name": "stdout",
     "output_type": "stream",
     "text": [
      "tuple\n"
     ]
    }
   ],
   "source": [
    "def search(nums: List[int], target: int) -> int:\n",
    "    return nums.index(target)\n",
    "\n",
    "search([1,2,3,4,5], 3)\n",
    "x = 3,4\n",
    "print(type(x).__name__)"
   ]
  },
  {
   "cell_type": "code",
   "execution_count": 97,
   "id": "1d6ccc37",
   "metadata": {
    "scrolled": true
   },
   "outputs": [
    {
     "name": "stdout",
     "output_type": "stream",
     "text": [
      "[0, 1, 2, 3, 4]\n",
      "2\n"
     ]
    }
   ],
   "source": [
    "from math import floor\n",
    "my_arr = [x for x in range(5)]\n",
    "print(my_arr)\n",
    "print(floor(len(my_arr) / 2))"
   ]
  },
  {
   "cell_type": "code",
   "execution_count": 130,
   "id": "c7cc71f4",
   "metadata": {},
   "outputs": [
    {
     "name": "stdout",
     "output_type": "stream",
     "text": [
      "\n",
      " ******\n",
      "left:  0\n",
      "mid:  2\n",
      "right:  4\n",
      "\n",
      " ******\n",
      "left:  3\n",
      "mid:  3\n",
      "right:  4\n",
      "\n",
      " ******\n",
      "left:  4\n",
      "mid:  4\n",
      "right:  4\n",
      "4\n"
     ]
    }
   ],
   "source": [
    "from math import floor\n",
    "def search(nums: List[int], target: int) -> int:\n",
    "    left = 0\n",
    "    right = len(nums) - 1\n",
    "\n",
    "    # continue checking as long as left <= right\n",
    "    # <= ensures that we check the first and last elem\n",
    "    while left <= right:\n",
    "        # can also use (right + left ) // 2 because \"//\" is floor division\n",
    "        mid = floor( (right + left) / 2 )\n",
    "        print('\\n ******')\n",
    "        print('left: ', left)\n",
    "        print('mid: ', mid)\n",
    "        print('right: ', right)\n",
    "        # return index if target = nums at midpoint\n",
    "        if nums[mid] == target:\n",
    "            return mid\n",
    "        # move right (ie update left to be mid) if target > nums at midpoint\n",
    "        elif target > nums[mid]:\n",
    "            left = mid + 1\n",
    "        # move left (ie update right to be mid) if target < nums at midpoint\n",
    "        else:\n",
    "            right = mid - 1\n",
    "            \n",
    "    # Return -1 once you've checked all nums\n",
    "    return -1\n",
    "\n",
    "\n",
    "print(search([0,1,2,3,4], 4))"
   ]
  },
  {
   "cell_type": "code",
   "execution_count": 129,
   "id": "7e799676",
   "metadata": {},
   "outputs": [
    {
     "data": {
      "text/plain": [
       "7"
      ]
     },
     "execution_count": 129,
     "metadata": {},
     "output_type": "execute_result"
    }
   ],
   "source": [
    "x = 10\n",
    "y = 5\n",
    "mid = (x+y) // 2\n",
    "mid"
   ]
  },
  {
   "cell_type": "code",
   "execution_count": 144,
   "id": "d6a45b9c",
   "metadata": {},
   "outputs": [
    {
     "data": {
      "text/plain": [
       "-1"
      ]
     },
     "execution_count": 144,
     "metadata": {},
     "output_type": "execute_result"
    }
   ],
   "source": [
    "def binary_search(nums: list[int], target: int) -> int:\n",
    "    left = 0\n",
    "    right = len(nums) - 1\n",
    "    \n",
    "    while left <= right:\n",
    "#        floor division to find mid point\n",
    "        mid = right + left // 2\n",
    "        \n",
    "#         if target is at mid, return mid\n",
    "        if nums[mid] == target:\n",
    "            return mid\n",
    "        \n",
    "#         move left or right depending if greater or less than targer\n",
    "        elif target > nums[mid]:\n",
    "            left = mid + 1\n",
    "        else:\n",
    "            right = mid - 1\n",
    "            \n",
    "    return -1\n",
    "        \n",
    "\n",
    "binary_search([0,1,2,3,4,5], 8)"
   ]
  },
  {
   "cell_type": "code",
   "execution_count": 182,
   "id": "ba96d2f5",
   "metadata": {},
   "outputs": [
    {
     "name": "stdout",
     "output_type": "stream",
     "text": [
      "[(1, 3), (4, 10), (5, 8), (20, 25)]\n"
     ]
    },
    {
     "data": {
      "text/plain": [
       "[(1, 3), (4, 10), (20, 25)]"
      ]
     },
     "execution_count": 182,
     "metadata": {},
     "output_type": "execute_result"
    }
   ],
   "source": [
    "def overlapping_intervals(intervals):\n",
    "    # handle empty list\n",
    "    if not intervals:\n",
    "        return []\n",
    "    \n",
    "    # sort the intervals\n",
    "    intervals.sort()\n",
    "    \n",
    "    # iterate through sorted nums\n",
    "    result = []\n",
    "    starting_num = intervals[0][0]\n",
    "    last_num = intervals[0][1]\n",
    "\n",
    "    for tup in intervals[1:]:\n",
    "        if tup[0] > last_num:\n",
    "            result.append((starting_num, last_num))\n",
    "            starting_num = tup[0]\n",
    "            last_num = tup[1]\n",
    "        else:\n",
    "            last_num = max(tup[1], last_num)\n",
    "    \n",
    "    # add the final tuple\n",
    "    result.append((starting_num, last_num))\n",
    "    \n",
    "    # return the result\n",
    "    return result\n",
    "            \n",
    "        \n",
    "\n",
    "overlapping_intervals([(1, 3), (5, 8), (4, 10), (20, 25)])"
   ]
  },
  {
   "cell_type": "code",
   "execution_count": 185,
   "id": "fd91901b",
   "metadata": {},
   "outputs": [
    {
     "name": "stdout",
     "output_type": "stream",
     "text": [
      "True\n",
      "False\n",
      "False\n"
     ]
    }
   ],
   "source": [
    "def isPalindrome(x):\n",
    "    # Convert the integer to a string\n",
    "    x_str = str(x)\n",
    "\n",
    "    # Compare the string with its reverse\n",
    "    return x_str == x_str[::-1]\n",
    "\n",
    "# Test cases\n",
    "print(isPalindrome(121))  # Output: True\n",
    "print(isPalindrome(-121))  # Output: False\n",
    "print(isPalindrome(10))   # Output: False"
   ]
  },
  {
   "cell_type": "code",
   "execution_count": 193,
   "id": "43524fb4",
   "metadata": {},
   "outputs": [
    {
     "name": "stdout",
     "output_type": "stream",
     "text": [
      "True\n",
      "False\n",
      "False\n",
      "False\n"
     ]
    }
   ],
   "source": [
    "def isPalindrome(x):\n",
    "    # Negative numbers and numbers ending with 0 (except 0 itself) are not palindromes\n",
    "    if x < 0 or (x % 10 == 0 and x != 0):\n",
    "        return False\n",
    "\n",
    "    reversed_half = 0\n",
    "    # Build the reverse of the second half of x\n",
    "    while x > reversed_half:\n",
    "        reversed_half = reversed_half * 10 + x % 10\n",
    "        x //= 10\n",
    "\n",
    "    # When the length of the number is odd, we can get rid of the middle digit by reversed_half // 10\n",
    "    return x == reversed_half or x == reversed_half // 10\n",
    "\n",
    "# Test cases\n",
    "print(isPalindrome(121))  # Output: True\n",
    "print(isPalindrome(-121))  # Output: False\n",
    "print(isPalindrome(10))   # Output: False\n",
    "print(isPalindrome(100))"
   ]
  },
  {
   "cell_type": "code",
   "execution_count": 194,
   "id": "b1673b87",
   "metadata": {},
   "outputs": [
    {
     "name": "stdout",
     "output_type": "stream",
     "text": [
      "True\n",
      "False\n",
      "False\n"
     ]
    }
   ],
   "source": [
    "def is_palindrome(x):\n",
    "    # A negative number cannot be a palindrome\n",
    "    if x < 0:\n",
    "        return False\n",
    "\n",
    "    # Store the original number to compare later\n",
    "    original = x\n",
    "    reversed_number = 0\n",
    "\n",
    "    while x > 0:\n",
    "        # Extract the last digit of the number\n",
    "        digit = x % 10\n",
    "        # Add the digit to the reversed number\n",
    "        reversed_number = reversed_number * 10 + digit\n",
    "        # Remove the last digit from the original number\n",
    "        x //= 10\n",
    "\n",
    "    # Check if the reversed number is equal to the original number\n",
    "    return original == reversed_number\n",
    "\n",
    "# Test cases\n",
    "print(is_palindrome(121))  # Output: True\n",
    "print(is_palindrome(-121))  # Output: False\n",
    "print(is_palindrome(10))   # Output: False"
   ]
  },
  {
   "cell_type": "code",
   "execution_count": 206,
   "id": "f5b4e41c",
   "metadata": {},
   "outputs": [
    {
     "name": "stdout",
     "output_type": "stream",
     "text": [
      "24\n"
     ]
    }
   ],
   "source": [
    "def roman_to_int(s):\n",
    "    roman_values = {\n",
    "        'I': 1,\n",
    "        'V': 5,\n",
    "        'X': 10,\n",
    "        'L': 50,\n",
    "        'C': 100,\n",
    "        'D': 500,\n",
    "        'M': 1000\n",
    "    }\n",
    "\n",
    "    total = 0\n",
    "    prev_value = 0\n",
    "\n",
    "    for c in reversed(s):\n",
    "        current_value = roman_values[c]\n",
    "        if current_value < prev_value:\n",
    "            total -= current_value\n",
    "        else:\n",
    "            total += current_value\n",
    "        prev_value = current_value\n",
    "\n",
    "    return total\n",
    "\n",
    "# Example usage:\n",
    "roman_numeral = \"XXIV\"\n",
    "result = roman_to_int(roman_numeral)\n",
    "print(result)  # This will output 27"
   ]
  },
  {
   "cell_type": "markdown",
   "id": "6f33ca44",
   "metadata": {},
   "source": [
    "Given a mapping of digits to letters (as in a phone number), and a digit string, return all possible letters the number could represent. You can assume each valid number in the mapping is a single digit.\n",
    "\n",
    "For example if {“2”: [“a”, “b”, “c”], 3: [“d”, “e”, “f”], …} then “23” should return [“ad”, “ae”, “af”, “bd”, “be”, “bf”, “cd”, “ce”, “cf\"]."
   ]
  },
  {
   "cell_type": "code",
   "execution_count": 5,
   "id": "06954d66",
   "metadata": {},
   "outputs": [],
   "source": [
    "def all_possible_letters(mapping: dict, digit_str: str) -> list[str]:\n",
    "    result = []\n",
    "    for index\n",
    "\n",
    "all_possible_letters({\n",
    "    '2': ['a', 'b', 'c'],\n",
    "    '3': ['d', 'e', 'f']\n",
    "}\n",
    ",'23'\n",
    ")"
   ]
  },
  {
   "cell_type": "code",
   "execution_count": 9,
   "id": "e1bfe88e",
   "metadata": {},
   "outputs": [],
   "source": [
    "# Find the 2 primes that sum to an even number\n",
    "\n",
    "# Function to check if a number is prime\n",
    "def is_prime(n: int) -> bool:\n",
    "    if n < 2:\n",
    "        return False\n",
    "    for i in range(2, int(n ** 0.5) + 1):\n",
    "        if n % i == 0:\n",
    "            return False\n",
    "    return True\n",
    "\n",
    "# Function to find the two prime numbers that sum to an even number\n",
    "def find_two_primes(n: int) -> tuple[int, int]:\n",
    "    # iterate from 1 through n/2 and check if that num and the compliment is prime\n",
    "    for i in range(1, n // 2 + 1):\n",
    "        print(i, n - i)\n",
    "        if is_prime(i) and is_prime(n - i):\n",
    "            return i, n - i"
   ]
  },
  {
   "cell_type": "code",
   "execution_count": 10,
   "id": "93d94c45",
   "metadata": {},
   "outputs": [
    {
     "name": "stdout",
     "output_type": "stream",
     "text": [
      "1 9\n",
      "2 8\n",
      "3 7\n",
      "(3, 7)\n"
     ]
    }
   ],
   "source": [
    "print(find_two_primes(10))\n",
    "# print(find_two_primes(20))"
   ]
  },
  {
   "cell_type": "code",
   "execution_count": 12,
   "id": "678ba088",
   "metadata": {},
   "outputs": [
    {
     "name": "stdout",
     "output_type": "stream",
     "text": [
      "True\n"
     ]
    }
   ],
   "source": [
    "print(is_prime(11))"
   ]
  },
  {
   "cell_type": "code",
   "execution_count": null,
   "id": "35430884",
   "metadata": {},
   "outputs": [],
   "source": [
    "# two_sum: given\n",
    "def two_sum(nums, target):\n",
    "    pass"
   ]
  },
  {
   "cell_type": "code",
   "execution_count": null,
   "id": "69fdb6c1",
   "metadata": {},
   "outputs": [],
   "source": [
    "# isPalindrome: ignore non-alphanumeric characters. uppercase and lowercase are equal\n",
    "\n",
    "def is_palindrome:\n",
    "    # have 2 pointers - 1 at beginning and one at end"
   ]
  },
  {
   "cell_type": "code",
   "execution_count": null,
   "id": "58549874",
   "metadata": {},
   "outputs": [],
   "source": [
    "\n",
    "\n",
    "\n",
    "\n",
    "\n",
    "\n",
    "\n",
    "\n",
    "\n",
    "\n",
    "\n",
    "\n",
    "\n",
    "\n",
    "\n",
    "\n",
    "\n",
    "\n",
    "\n",
    "\n",
    "\n",
    "\n",
    "\n",
    "\n",
    "\n",
    "\n",
    "\n",
    "\n",
    "\n",
    "\n",
    "\n",
    "\n",
    "\n",
    "\n",
    "\n",
    "\n",
    "\n",
    "\n",
    "\n",
    "\n",
    "\n",
    "\n",
    "\n",
    "\n",
    "\n",
    "\n",
    "\n",
    "\n",
    "\n",
    "\n",
    "\n",
    "\n",
    "\n",
    "\n",
    "\n",
    "\n",
    "\n"
   ]
  }
 ],
 "metadata": {
  "kernelspec": {
   "display_name": "Python 3 (ipykernel)",
   "language": "python",
   "name": "python3"
  },
  "language_info": {
   "codemirror_mode": {
    "name": "ipython",
    "version": 3
   },
   "file_extension": ".py",
   "mimetype": "text/x-python",
   "name": "python",
   "nbconvert_exporter": "python",
   "pygments_lexer": "ipython3",
   "version": "3.11.5"
  }
 },
 "nbformat": 4,
 "nbformat_minor": 5
}
