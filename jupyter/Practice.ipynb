{
 "cells": [
  {
   "cell_type": "code",
   "execution_count": 2,
   "id": "d77efe0b",
   "metadata": {},
   "outputs": [
    {
     "name": "stdout",
     "output_type": "stream",
     "text": [
      "local x\n",
      "global x\n"
     ]
    }
   ],
   "source": [
    "x = 'global x' \n",
    "def my_func():\n",
    "#     global x\n",
    "    x = 'local x'\n",
    "    print(x)\n",
    "    \n",
    "my_func()\n",
    "print(x)\n",
    "# print(val)"
   ]
  },
  {
   "cell_type": "code",
   "execution_count": 47,
   "id": "401307a3",
   "metadata": {},
   "outputs": [
    {
     "name": "stdout",
     "output_type": "stream",
     "text": [
      "called 1 time\n",
      "already called\n",
      "already called\n",
      "already called\n",
      "already called\n"
     ]
    }
   ],
   "source": [
    "def invoke_once():\n",
    "    x = 0\n",
    "    def inner():\n",
    "        nonlocal x\n",
    "        if x > 0:\n",
    "            return 'already called'\n",
    "        x += 1\n",
    "        return f'called {x} time'\n",
    "    return inner\n",
    "\n",
    "new_func = invoke_once()\n",
    "\n",
    "print(new_func())\n",
    "print(new_func())\n",
    "print(new_func())\n",
    "print(new_func())\n",
    "print(new_func())\n",
    "\n",
    "\n",
    "    "
   ]
  },
  {
   "cell_type": "code",
   "execution_count": 53,
   "id": "05a5b774",
   "metadata": {},
   "outputs": [
    {
     "name": "stdout",
     "output_type": "stream",
     "text": [
      "[1]\n",
      "already called\n",
      "already called\n",
      "already called\n",
      "already called\n"
     ]
    }
   ],
   "source": [
    "def invoke_once2():\n",
    "    x = []\n",
    "    def inner():\n",
    "        if len(x) > 0:\n",
    "            return 'already called'\n",
    "        x.append(1)\n",
    "        return x\n",
    "    return inner\n",
    "\n",
    "new_func2 = invoke_once2()\n",
    "\n",
    "print(new_func2())\n",
    "print(new_func2())\n",
    "print(new_func2())\n",
    "print(new_func2())\n",
    "print(new_func2())\n"
   ]
  },
  {
   "cell_type": "markdown",
   "id": "4fd95d54",
   "metadata": {},
   "source": [
    "# Problem: Filter and Square\n",
    "Write a Python function filter_and_square that takes a list of integers as input. The function should:\n",
    "\n",
    "Filter out all negative numbers from the list.\n",
    "Square the remaining numbers.\n",
    "Return the new list with these squared numbers.\n"
   ]
  },
  {
   "cell_type": "code",
   "execution_count": 56,
   "id": "fa9ba384",
   "metadata": {},
   "outputs": [
    {
     "data": {
      "text/plain": [
       "[1, 4, 9, 16, 25]"
      ]
     },
     "execution_count": 56,
     "metadata": {},
     "output_type": "execute_result"
    }
   ],
   "source": [
    "def filter_and_square(int_list):\n",
    "    return [x**2 for x in int_list if x >0]\n",
    "\n",
    "filter_and_square([1,2,3,4,5,-9,-8])"
   ]
  },
  {
   "cell_type": "markdown",
   "id": "99bf4170",
   "metadata": {},
   "source": [
    "# Problem: Advanced Greeting\n",
    "Write a Python function named advanced_greeting that takes two arguments:\n",
    "\n",
    "name: A string representing the name of the person.\n",
    "time_of_day: A string that can be \"morning\", \"afternoon\", or \"evening\", with a default value of \"day\".\n",
    "The function should return a greeting string that incorporates both the name and the time of day. If time_of_day is not one of the expected values, it should use its default value in the greeting."
   ]
  },
  {
   "cell_type": "code",
   "execution_count": 64,
   "id": "8cf2124a",
   "metadata": {},
   "outputs": [
    {
     "name": "stdout",
     "output_type": "stream",
     "text": [
      "Hello, John. Good morning\n",
      "Hello, Elisabeth. Good afternoon\n",
      "Hello, Hannah. Good day\n"
     ]
    }
   ],
   "source": [
    "def advanced_greeting(name, time_of_day='day'):\n",
    "    valid_times =  ['morning','afternoon', 'evening']\n",
    "    greeting = time_of_day if time_of_day in valid_times else 'day'\n",
    "    return f'Hello, {name}. Good {greeting}'\n",
    "\n",
    "print(advanced_greeting('John', 'morning'))\n",
    "print(advanced_greeting('Elisabeth', 'afternoon'))\n",
    "print(advanced_greeting('Hannah', 'other'))"
   ]
  },
  {
   "cell_type": "markdown",
   "id": "db1c992a",
   "metadata": {},
   "source": [
    "# Problem: Dynamic Multiplier Functions\n",
    "Write a Python function called create_multiplier that takes a number n as its argument and returns a new function. This returned function should take one argument x and return the product of x and n. Essentially, you're dynamically creating and returning functions that multiply by n.\n",
    "\n",
    "This exercise showcases Python's ability to treat functions as first-class citizens, allowing you to dynamically create and use functions within other functions."
   ]
  },
  {
   "cell_type": "code",
   "execution_count": 66,
   "id": "6f987f60",
   "metadata": {},
   "outputs": [
    {
     "name": "stdout",
     "output_type": "stream",
     "text": [
      "20\n",
      "30\n"
     ]
    }
   ],
   "source": [
    "def create_multiplier(n):\n",
    "    def inner(x):\n",
    "        return x * n\n",
    "    return inner\n",
    "    \n",
    "double = create_multiplier(2)\n",
    "print(double(10))\n",
    "triple = create_multiplier(3)\n",
    "print(triple(10))"
   ]
  },
  {
   "cell_type": "markdown",
   "id": "a78c375b",
   "metadata": {},
   "source": [
    "# Problem: Accumulating Append\n",
    "Write a Python function named accumulating_append that takes two arguments:\n",
    "\n",
    "lst (a list to which a new item will be appended)\n",
    "item (the item to append to the list)\n",
    "The tricky part: make lst have a default value of an empty list, but in a way that avoids the common pitfall of using mutable default arguments."
   ]
  },
  {
   "cell_type": "code",
   "execution_count": 71,
   "id": "86208bb8",
   "metadata": {},
   "outputs": [
    {
     "name": "stdout",
     "output_type": "stream",
     "text": [
      "['hello']\n",
      "['hello']\n",
      "['hello']\n"
     ]
    }
   ],
   "source": [
    "def accumulating_append(item, lst = None):\n",
    "    if not lst:\n",
    "        lst = []\n",
    "    lst.append(item)\n",
    "    return lst\n",
    "\n",
    "print(accumulating_append(item='hello'))\n",
    "print(accumulating_append(item='hello'))\n",
    "print(accumulating_append(item='hello'))"
   ]
  },
  {
   "cell_type": "markdown",
   "id": "b600e1b5",
   "metadata": {},
   "source": [
    "# Problem: Logging Decorator\n",
    "Write a Python decorator named log_call that wraps any function it decorates by printing a message before and after its execution. The message should include the name of the function being called."
   ]
  },
  {
   "cell_type": "code",
   "execution_count": 89,
   "id": "efa015b9",
   "metadata": {},
   "outputs": [
    {
     "name": "stdout",
     "output_type": "stream",
     "text": [
      "**** Basic decorator ****\n",
      "hello\n",
      "before func is called\n",
      "hello\n",
      "after func is called\n",
      "\n",
      "\n",
      "**** @ function for decorators *****\n",
      "before func is called\n",
      "hi\n",
      "after func is called\n",
      "\n",
      " **** Decorators with Arguements ****\n"
     ]
    }
   ],
   "source": [
    "# basic decorator\n",
    "print('**** Basic decorator ****')\n",
    "def my_decorator(func):\n",
    "    def wrapper():\n",
    "        print('before func is called')\n",
    "        func()\n",
    "        print('after func is called')\n",
    "    return wrapper\n",
    "        \n",
    "def say_hello():\n",
    "    print('hello')\n",
    "\n",
    "say_hello() # no decorator\n",
    "say_hello = my_decorator(say_hello)\n",
    "say_hello()\n",
    "\n",
    "# @ function for decorators - this is equivalent to \"say_hello = my_decorator(say_hello)\"\n",
    "print('\\n')\n",
    "print('**** @ function for decorators *****')\n",
    "@my_decorator\n",
    "def say_hi():\n",
    "    print('hi')\n",
    "    \n",
    "say_hi()\n",
    "\n",
    "# Decorators with Arguments - requires another level of function nesting\n",
    "print('\\n **** Decorators with Arguements ****')\n",
    "\n",
    "    "
   ]
  },
  {
   "cell_type": "markdown",
   "id": "b059c265",
   "metadata": {},
   "source": [
    "# NumPy"
   ]
  },
  {
   "cell_type": "code",
   "execution_count": 15,
   "id": "587ad46c",
   "metadata": {},
   "outputs": [
    {
     "name": "stdout",
     "output_type": "stream",
     "text": [
      "86\n",
      "The first column with at least one non-zero row is at index 0.\n",
      "[86 53 86 11  7 88 58 49 17 43 16  8 50  3  0 75 37 28 95  7 93 89 23 62\n",
      " 83 75 46 94 92 70 33 38 15 26 53  0 77  3 24 46 53 19 40 18 34 84 12 96\n",
      "  5  1 43 22 80 63 21 47 76 32 80 73 12 19 24 65 84 39 86 61 69  1 77 80\n",
      " 73 78 60 26 93 10  4 69  4 46 94 35  5 46]\n"
     ]
    }
   ],
   "source": [
    "import numpy as np\n",
    "\n",
    "# Assuming DS_array is your array\n",
    "DS_array = np.random.randint(0, 100, (12108, 86))  # Replace this with your actual array\n",
    "print(DS_array.shape[1])\n",
    "\n",
    "# Initialize variable to hold the index of the first non-empty column\n",
    "first_non_empty_column = None\n",
    "\n",
    "# Loop through the columns\n",
    "for col_idx in range(DS_array.shape[1]):\n",
    "    if np.any(DS_array[:, col_idx]):\n",
    "        first_non_empty_column = col_idx\n",
    "        break\n",
    "\n",
    "if first_non_empty_column is not None:\n",
    "    print(f\"The first column with at least one non-zero row is at index {first_non_empty_column}.\")\n",
    "else:\n",
    "    print(\"No non-zero rows found in any column.\")\n",
    "\n",
    "print(DS_array[0])"
   ]
  },
  {
   "cell_type": "code",
   "execution_count": 20,
   "id": "af9215f0",
   "metadata": {},
   "outputs": [
    {
     "name": "stdout",
     "output_type": "stream",
     "text": [
      "First non-zero rows: [0, 3, 0, 0, 0, 0, 3, 2, 0, 10, 0, 2, 1, 0, 2, 0, 8, 2, 1, 0, 0, 0, 1, 1, 0, 0, 4, 0, 1, 2, 2, 0, 2, 0, 0, 1, 0, 0, 1, 1, 0, 0, 1, 1, 3, 1, 1, 0, 0, 0, 0, 2, 1, 0, 2, 1, 0, 0, 1, 0, 2, 2, 1, 2, 0, 3, 1, 0, 2, 0, 0, 2, 1, 0, 0, 0, 0, 4, 0, 0, 1, 3, 1, 0, 2, 1]\n",
      "Last non-zero rows: [12105, 12107, 12106, 12106, 12107, 12107, 12107, 12106, 12106, 12104, 12107, 12107, 12107, 12104, 12107, 12105, 12101, 12100, 12107, 12107, 12107, 12106, 12104, 12107, 12104, 12107, 12093, 12107, 12106, 12107, 12106, 12106, 12107, 12106, 12107, 12107, 12100, 12105, 12107, 12107, 12106, 12107, 12103, 12107, 12105, 12105, 12104, 12106, 12104, 12105, 12106, 12107, 12107, 12106, 12107, 12107, 12106, 12106, 12104, 12107, 12107, 12107, 12107, 12106, 12107, 12107, 12099, 12106, 12107, 12107, 12107, 12107, 12106, 12107, 12106, 12107, 12106, 12107, 12107, 12106, 12107, 12106, 12106, 12104, 12107, 12104]\n"
     ]
    }
   ],
   "source": [
    "import numpy as np\n",
    "\n",
    "# Assuming DS_array is your array\n",
    "DS_array = np.random.randint(0, 2, (12108, 86))  # Replace this with your actual array\n",
    "\n",
    "# Initialize variables to hold the first and last non-zero row indices for each column\n",
    "first_non_zero_rows = []\n",
    "last_non_zero_rows = []\n",
    "\n",
    "# Loop through each column to find the first and last non-zero rows\n",
    "for col_idx in range(DS_array.shape[1]):\n",
    "    non_zero_rows = np.where(DS_array[:, col_idx] != 0)[0]\n",
    "    if non_zero_rows.size > 0:\n",
    "        first_non_zero_rows.append(non_zero_rows[0])\n",
    "        last_non_zero_rows.append(non_zero_rows[-1])\n",
    "    else:\n",
    "        first_non_zero_rows.append(None)\n",
    "        last_non_zero_rows.append(None)\n",
    "\n",
    "# Now first_non_zero_rows and last_non_zero_rows hold the indices of the first and last non-zero rows for each column\n",
    "print(\"First non-zero rows:\", first_non_zero_rows)\n",
    "print(\"Last non-zero rows:\", last_non_zero_rows)\n"
   ]
  },
  {
   "cell_type": "code",
   "execution_count": 21,
   "id": "2e1672e3",
   "metadata": {
    "scrolled": true
   },
   "outputs": [
    {
     "name": "stdout",
     "output_type": "stream",
     "text": [
      "First non-zero rows: [ 0  3  0  0  0  0  3  2  0 10  0  2  1  0  2  0  8  2  1  0  0  0  1  1\n",
      "  0  0  4  0  1  2  2  0  2  0  0  1  0  0  1  1  0  0  1  1  3  1  1  0\n",
      "  0  0  0  2  1  0  2  1  0  0  1  0  2  2  1  2  0  3  1  0  2  0  0  2\n",
      "  1  0  0  0  0  4  0  0  1  3  1  0  2  1]\n",
      "Last non-zero rows: [12105 12107 12106 12106 12107 12107 12107 12106 12106 12104 12107 12107\n",
      " 12107 12104 12107 12105 12101 12100 12107 12107 12107 12106 12104 12107\n",
      " 12104 12107 12093 12107 12106 12107 12106 12106 12107 12106 12107 12107\n",
      " 12100 12105 12107 12107 12106 12107 12103 12107 12105 12105 12104 12106\n",
      " 12104 12105 12106 12107 12107 12106 12107 12107 12106 12106 12104 12107\n",
      " 12107 12107 12107 12106 12107 12107 12099 12106 12107 12107 12107 12107\n",
      " 12106 12107 12106 12107 12106 12107 12107 12106 12107 12106 12106 12104\n",
      " 12107 12104]\n"
     ]
    }
   ],
   "source": [
    "# Find the rows where each column is non-zero\n",
    "non_zero_rows = np.any(DS_array != 0, axis=1)\n",
    "\n",
    "# Get the row indices where each column is non-zero\n",
    "non_zero_row_indices = np.where(non_zero_rows)[0]\n",
    "\n",
    "# Initialize arrays to hold the first and last non-zero rows for each column\n",
    "first_non_zero_rows = np.zeros(DS_array.shape[1], dtype=int) - 1  # Initialize with -1 to indicate \"not found\"\n",
    "last_non_zero_rows = np.zeros(DS_array.shape[1], dtype=int) - 1  # Initialize with -1 to indicate \"not found\"\n",
    "\n",
    "# For columns that have at least one non-zero row, find the first and last such rows\n",
    "if len(non_zero_row_indices) > 0:\n",
    "    for col_idx in range(DS_array.shape[1]):\n",
    "        col_non_zero_rows = np.where(DS_array[:, col_idx] != 0)[0]\n",
    "        if col_non_zero_rows.size > 0:\n",
    "            first_non_zero_rows[col_idx] = col_non_zero_rows[0]\n",
    "            last_non_zero_rows[col_idx] = col_non_zero_rows[-1]\n",
    "\n",
    "# Now first_non_zero_rows and last_non_zero_rows hold the indices of the first and last non-zero rows for each column\n",
    "print(\"First non-zero rows:\", first_non_zero_rows)\n",
    "print(\"Last non-zero rows:\", last_non_zero_rows)\n"
   ]
  },
  {
   "cell_type": "code",
   "execution_count": 25,
   "id": "8826fc8d",
   "metadata": {},
   "outputs": [
    {
     "ename": "IndexError",
     "evalue": "index 86 is out of bounds for axis 0 with size 86",
     "output_type": "error",
     "traceback": [
      "\u001b[0;31m---------------------------------------------------------------------------\u001b[0m",
      "\u001b[0;31mIndexError\u001b[0m                                Traceback (most recent call last)",
      "Cell \u001b[0;32mIn[25], line 14\u001b[0m\n\u001b[1;32m     11\u001b[0m last_non_zero_rows \u001b[38;5;241m=\u001b[39m np\u001b[38;5;241m.\u001b[39mfull(DS_array\u001b[38;5;241m.\u001b[39mshape[\u001b[38;5;241m1\u001b[39m], \u001b[38;5;241m-\u001b[39m\u001b[38;5;241m1\u001b[39m)\n\u001b[1;32m     13\u001b[0m \u001b[38;5;66;03m# Fill the first and last non-zero row indices arrays\u001b[39;00m\n\u001b[0;32m---> 14\u001b[0m np\u001b[38;5;241m.\u001b[39mminimum\u001b[38;5;241m.\u001b[39mat(first_non_zero_rows, col_indices, row_indices)\n\u001b[1;32m     15\u001b[0m np\u001b[38;5;241m.\u001b[39mmaximum\u001b[38;5;241m.\u001b[39mat(last_non_zero_rows, col_indices, row_indices)\n\u001b[1;32m     17\u001b[0m \u001b[38;5;66;03m# Replace -1 with None where no non-zero row was found\u001b[39;00m\n",
      "\u001b[0;31mIndexError\u001b[0m: index 86 is out of bounds for axis 0 with size 86"
     ]
    }
   ],
   "source": [
    "\n",
    "# Identify the rows with non-zero entries for each column\n",
    "non_zero_rows = np.where(DS_array != 0)\n",
    "# print(non_zero_rows)\n",
    "\n",
    "# Get the column indices and corresponding row indices\n",
    "col_indices, row_indices = non_zero_rows\n",
    "\n",
    "# Create arrays to hold the first and last non-zero row indices for each column\n",
    "# Initialize them with -1 to indicate that no non-zero row has been found\n",
    "first_non_zero_rows = np.full(DS_array.shape[1], -1)\n",
    "last_non_zero_rows = np.full(DS_array.shape[1], -1)\n",
    "\n",
    "# Fill the first and last non-zero row indices arrays\n",
    "np.minimum.at(first_non_zero_rows, col_indices, row_indices)\n",
    "np.maximum.at(last_non_zero_rows, col_indices, row_indices)\n",
    "\n",
    "# Replace -1 with None where no non-zero row was found\n",
    "first_non_zero_rows[first_non_zero_rows == -1] = None\n",
    "last_non_zero_rows[last_non_zero_rows == -1] = None\n",
    "\n",
    "print(\"First non-zero rows:\", first_non_zero_rows)\n",
    "print(\"Last non-zero rows:\", last_non_zero_rows)\n"
   ]
  },
  {
   "cell_type": "code",
   "execution_count": 26,
   "id": "03b1c1cd",
   "metadata": {
    "scrolled": true
   },
   "outputs": [
    {
     "name": "stdout",
     "output_type": "stream",
     "text": [
      "First non-zero rows: [ 0  3  0  0  0  0  3  2  0 10  0  2  1  0  2  0  8  2  1  0  0  0  1  1\n",
      "  0  0  4  0  1  2  2  0  2  0  0  1  0  0  1  1  0  0  1  1  3  1  1  0\n",
      "  0  0  0  2  1  0  2  1  0  0  1  0  2  2  1  2  0  3  1  0  2  0  0  2\n",
      "  1  0  0  0  0  4  0  0  1  3  1  0  2  1]\n",
      "Last non-zero rows: [12105 12107 12106 12106 12107 12107 12107 12106 12106 12104 12107 12107\n",
      " 12107 12104 12107 12105 12101 12100 12107 12107 12107 12106 12104 12107\n",
      " 12104 12107 12093 12107 12106 12107 12106 12106 12107 12106 12107 12107\n",
      " 12100 12105 12107 12107 12106 12107 12103 12107 12105 12105 12104 12106\n",
      " 12104 12105 12106 12107 12107 12106 12107 12107 12106 12106 12104 12107\n",
      " 12107 12107 12107 12106 12107 12107 12099 12106 12107 12107 12107 12107\n",
      " 12106 12107 12106 12107 12106 12107 12107 12106 12107 12106 12106 12104\n",
      " 12107 12104]\n"
     ]
    }
   ],
   "source": [
    "non_zero_mask = DS_array != 0\n",
    "\n",
    "# Find indices of the first and last non-zero elements in each column\n",
    "first_non_zero_rows = np.argmax(non_zero_mask, axis=0)\n",
    "last_non_zero_rows = DS_array.shape[0] - 1 - np.argmax(non_zero_mask[::-1, :], axis=0)\n",
    "\n",
    "# Validate if columns contain any non-zero elements\n",
    "# If a column contains only zeros, np.argmax would incorrectly return 0 as the index of the first non-zero element\n",
    "valid_first = np.any(non_zero_mask, axis=0)\n",
    "first_non_zero_rows[~valid_first] = -1  # Set indices to -1 or another placeholder for \"no non-zero elements\"\n",
    "last_non_zero_rows[~valid_first] = -1\n",
    "\n",
    "print(\"First non-zero rows:\", first_non_zero_rows)\n",
    "print(\"Last non-zero rows:\", last_non_zero_rows)"
   ]
  },
  {
   "cell_type": "code",
   "execution_count": 76,
   "id": "c4052613",
   "metadata": {},
   "outputs": [
    {
     "data": {
      "text/plain": [
       "True"
      ]
     },
     "execution_count": 76,
     "metadata": {},
     "output_type": "execute_result"
    }
   ],
   "source": [
    "class Solution:\n",
    "    def isPalindrome(self, s: str) -> bool:\n",
    "        start = 0\n",
    "        end = len(s) - 1\n",
    "        while start < end:\n",
    "            # update start until we get a alpha character\n",
    "            while start < end and not s[start].isalnum():\n",
    "                start += 1\n",
    "\n",
    "            # update end until we get a alpha character\n",
    "            while start < end and not s[end].isalnum():\n",
    "                end -= 1\n",
    "\n",
    "            # Compare lower versions of characters at start and end. If not the same, return False\n",
    "            if s[start].lower() != s[end].lower():\n",
    "                return False\n",
    "            # If they are the same, continue looping and increment/decrement each by 1\n",
    "            start += 1\n",
    "            end -= 1\n",
    "        \n",
    "        # After checking all character, return True\n",
    "        return True\n",
    "\n",
    "        \n",
    "my_solution = Solution()\n",
    "my_solution.isPalindrome( \"A man, a plan, a canal: Panama\")\n",
    "my_solution.isPalindrome(\"race a car\")\n",
    "my_solution.isPalindrome( \".,\")\n"
   ]
  },
  {
   "cell_type": "code",
   "execution_count": 70,
   "id": "9736c431",
   "metadata": {},
   "outputs": [
    {
     "name": "stdout",
     "output_type": "stream",
     "text": [
      "abcd4\n"
     ]
    }
   ],
   "source": [
    "counts = [0] * 26\n",
    "''.join(map(str, counts))\n",
    "\n",
    "my_arr = ['a','b','c','d',4]\n",
    "print(''.join(map(str, my_arr)))"
   ]
  },
  {
   "cell_type": "code",
   "execution_count": 89,
   "id": "37a6503b",
   "metadata": {},
   "outputs": [
    {
     "name": "stdout",
     "output_type": "stream",
     "text": [
      "tuple\n"
     ]
    }
   ],
   "source": [
    "def search(nums: List[int], target: int) -> int:\n",
    "    return nums.index(target)\n",
    "\n",
    "search([1,2,3,4,5], 3)\n",
    "x = 3,4\n",
    "print(type(x).__name__)"
   ]
  },
  {
   "cell_type": "code",
   "execution_count": 97,
   "id": "22dfe6e6",
   "metadata": {
    "scrolled": true
   },
   "outputs": [
    {
     "name": "stdout",
     "output_type": "stream",
     "text": [
      "[0, 1, 2, 3, 4]\n",
      "2\n"
     ]
    }
   ],
   "source": [
    "from math import floor\n",
    "my_arr = [x for x in range(5)]\n",
    "print(my_arr)\n",
    "print(floor(len(my_arr) / 2))"
   ]
  },
  {
   "cell_type": "code",
   "execution_count": 108,
   "id": "09b64248",
   "metadata": {},
   "outputs": [
    {
     "name": "stdout",
     "output_type": "stream",
     "text": [
      "\n",
      " ******\n",
      "left:  0\n",
      "mid:  2\n",
      "right:  4\n",
      "\n",
      " ******\n",
      "left:  2\n",
      "mid:  3\n",
      "right:  4\n"
     ]
    },
    {
     "data": {
      "text/plain": [
       "3"
      ]
     },
     "execution_count": 108,
     "metadata": {},
     "output_type": "execute_result"
    }
   ],
   "source": [
    "from math import floor\n",
    "def search(nums: List[int], target: int) -> int:\n",
    "    left = 0\n",
    "    right = len(nums) - 1\n",
    "\n",
    "    counter = 0\n",
    "    \n",
    "    # continue checking as long as left < right\n",
    "    while left < right:\n",
    "        mid = floor( (right - left) / 2 ) + left\n",
    "        print('\\n ******')\n",
    "        print('left: ', left)\n",
    "        print('mid: ', mid)\n",
    "        print('right: ', right)\n",
    "        # return index if target = nums at midpoint\n",
    "        if nums[mid] == target:\n",
    "            return mid\n",
    "        # move right (ie update left to be mid) if target > nums at midpoint\n",
    "        elif target > nums[mid]:\n",
    "            left = mid\n",
    "        # move left (ie update right to be mid) if target < nums at midpoint\n",
    "        else:\n",
    "            right = mid\n",
    "            \n",
    "        counter += 1\n",
    "        if counter > 1:\n",
    "            break\n",
    "\n",
    "    # Return -1 once you've checked all nums\n",
    "    return -1\n",
    "\n",
    "\n",
    "search([0,1,2,3,4], 3)"
   ]
  },
  {
   "cell_type": "code",
   "execution_count": null,
   "id": "58549874",
   "metadata": {},
   "outputs": [],
   "source": [
    "\n",
    "\n",
    "\n",
    "\n",
    "\n",
    "\n",
    "\n",
    "\n",
    "\n",
    "\n",
    "\n",
    "\n",
    "\n",
    "\n",
    "\n",
    "\n",
    "\n",
    "\n",
    "\n",
    "\n",
    "\n",
    "\n",
    "\n",
    "\n",
    "\n",
    "\n",
    "\n",
    "\n",
    "\n",
    "\n",
    "\n",
    "\n",
    "\n",
    "\n",
    "\n",
    "\n",
    "\n",
    "\n",
    "\n",
    "\n",
    "\n",
    "\n",
    "\n",
    "\n",
    "\n",
    "\n",
    "\n",
    "\n",
    "\n",
    "\n",
    "\n",
    "\n",
    "\n",
    "\n",
    "\n",
    "\n",
    "\n"
   ]
  }
 ],
 "metadata": {
  "kernelspec": {
   "display_name": "Python 3 (ipykernel)",
   "language": "python",
   "name": "python3"
  },
  "language_info": {
   "codemirror_mode": {
    "name": "ipython",
    "version": 3
   },
   "file_extension": ".py",
   "mimetype": "text/x-python",
   "name": "python",
   "nbconvert_exporter": "python",
   "pygments_lexer": "ipython3",
   "version": "3.11.5"
  }
 },
 "nbformat": 4,
 "nbformat_minor": 5
}
