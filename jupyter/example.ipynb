{
 "cells": [
  {
   "cell_type": "code",
   "execution_count": 3,
   "metadata": {},
   "outputs": [],
   "source": [
    "import pandas as pd"
   ]
  },
  {
   "cell_type": "code",
   "execution_count": 11,
   "metadata": {},
   "outputs": [],
   "source": [
    "file_path = '/Users/johndunn/Downloads/OPSF_2024_07_01/OPSF_2024-07-01.csv'"
   ]
  },
  {
   "cell_type": "code",
   "execution_count": 12,
   "metadata": {},
   "outputs": [
    {
     "name": "stderr",
     "output_type": "stream",
     "text": [
      "/var/folders/0t/q156bn497w3gz77dwxvjy07c0000gn/T/ipykernel_73997/1305645370.py:2: DtypeWarning: Columns (2,8,14,18) have mixed types. Specify dtype option on import or set low_memory=False.\n",
      "  df = pd.read_csv(file_path)\n"
     ]
    }
   ],
   "source": [
    "# read data\n",
    "df = pd.read_csv(file_path)"
   ]
  },
  {
   "cell_type": "code",
   "execution_count": 13,
   "metadata": {},
   "outputs": [
    {
     "data": {
      "text/plain": [
       "(660032, 33)"
      ]
     },
     "execution_count": 13,
     "metadata": {},
     "output_type": "execute_result"
    }
   ],
   "source": [
    "df.shape"
   ]
  },
  {
   "cell_type": "code",
   "execution_count": null,
   "metadata": {},
   "outputs": [],
   "source": [
    "df.info()"
   ]
  },
  {
   "cell_type": "code",
   "execution_count": 15,
   "metadata": {},
   "outputs": [
    {
     "data": {
      "text/html": [
       "<div>\n",
       "<style scoped>\n",
       "    .dataframe tbody tr th:only-of-type {\n",
       "        vertical-align: middle;\n",
       "    }\n",
       "\n",
       "    .dataframe tbody tr th {\n",
       "        vertical-align: top;\n",
       "    }\n",
       "\n",
       "    .dataframe thead th {\n",
       "        text-align: right;\n",
       "    }\n",
       "</style>\n",
       "<table border=\"1\" class=\"dataframe\">\n",
       "  <thead>\n",
       "    <tr style=\"text-align: right;\">\n",
       "      <th></th>\n",
       "      <th>providerCcn</th>\n",
       "      <th>effectiveDate</th>\n",
       "      <th>nationalProviderIdentifier</th>\n",
       "      <th>fiscalYearBeginDate</th>\n",
       "      <th>exportDate</th>\n",
       "      <th>terminationDate</th>\n",
       "      <th>waiverIndicator</th>\n",
       "      <th>intermediaryNumber</th>\n",
       "      <th>providerType</th>\n",
       "      <th>specialLocalityIndicator</th>\n",
       "      <th>...</th>\n",
       "      <th>deviceCostToChargeRatio</th>\n",
       "      <th>countyCode</th>\n",
       "      <th>paymentCbsa</th>\n",
       "      <th>paymentModelAdjustment</th>\n",
       "      <th>medicarePerformanceAdjustment</th>\n",
       "      <th>supplementalWageIndexIndicator</th>\n",
       "      <th>supplementalWageIndex</th>\n",
       "      <th>lastUpdated</th>\n",
       "      <th>carrierCode</th>\n",
       "      <th>localityCode</th>\n",
       "    </tr>\n",
       "  </thead>\n",
       "  <tbody>\n",
       "    <tr>\n",
       "      <th>0</th>\n",
       "      <td>001500</td>\n",
       "      <td>20220407</td>\n",
       "      <td>1578220653</td>\n",
       "      <td>20220407.0</td>\n",
       "      <td>20240701</td>\n",
       "      <td>NaN</td>\n",
       "      <td>N</td>\n",
       "      <td>6014</td>\n",
       "      <td>35</td>\n",
       "      <td></td>\n",
       "      <td>...</td>\n",
       "      <td>0.0</td>\n",
       "      <td>4013.0</td>\n",
       "      <td>NaN</td>\n",
       "      <td>1.0</td>\n",
       "      <td>NaN</td>\n",
       "      <td></td>\n",
       "      <td>0.0</td>\n",
       "      <td>20220727</td>\n",
       "      <td>3102.0</td>\n",
       "      <td>0.0</td>\n",
       "    </tr>\n",
       "    <tr>\n",
       "      <th>1</th>\n",
       "      <td>001500</td>\n",
       "      <td>20221001</td>\n",
       "      <td>1578220653</td>\n",
       "      <td>20220407.0</td>\n",
       "      <td>20240701</td>\n",
       "      <td>NaN</td>\n",
       "      <td>N</td>\n",
       "      <td>6014</td>\n",
       "      <td>35</td>\n",
       "      <td></td>\n",
       "      <td>...</td>\n",
       "      <td>0.0</td>\n",
       "      <td>4013.0</td>\n",
       "      <td>NaN</td>\n",
       "      <td>1.0</td>\n",
       "      <td>NaN</td>\n",
       "      <td></td>\n",
       "      <td>0.0</td>\n",
       "      <td>20221115</td>\n",
       "      <td>3102.0</td>\n",
       "      <td>0.0</td>\n",
       "    </tr>\n",
       "    <tr>\n",
       "      <th>2</th>\n",
       "      <td>001500</td>\n",
       "      <td>20231001</td>\n",
       "      <td>1578220653</td>\n",
       "      <td>20220407.0</td>\n",
       "      <td>20240701</td>\n",
       "      <td>NaN</td>\n",
       "      <td>N</td>\n",
       "      <td>6014</td>\n",
       "      <td>35</td>\n",
       "      <td></td>\n",
       "      <td>...</td>\n",
       "      <td>0.0</td>\n",
       "      <td>4013.0</td>\n",
       "      <td></td>\n",
       "      <td>1.0</td>\n",
       "      <td>NaN</td>\n",
       "      <td></td>\n",
       "      <td>0.0</td>\n",
       "      <td>20231003</td>\n",
       "      <td>3102.0</td>\n",
       "      <td>0.0</td>\n",
       "    </tr>\n",
       "    <tr>\n",
       "      <th>3</th>\n",
       "      <td>001501</td>\n",
       "      <td>20220211</td>\n",
       "      <td>1326631656</td>\n",
       "      <td>20220211.0</td>\n",
       "      <td>20240701</td>\n",
       "      <td>NaN</td>\n",
       "      <td>N</td>\n",
       "      <td>6014</td>\n",
       "      <td>35</td>\n",
       "      <td></td>\n",
       "      <td>...</td>\n",
       "      <td>0.0</td>\n",
       "      <td>4013.0</td>\n",
       "      <td>NaN</td>\n",
       "      <td>1.0</td>\n",
       "      <td>NaN</td>\n",
       "      <td></td>\n",
       "      <td>0.0</td>\n",
       "      <td>20220822</td>\n",
       "      <td>3102.0</td>\n",
       "      <td>0.0</td>\n",
       "    </tr>\n",
       "    <tr>\n",
       "      <th>4</th>\n",
       "      <td>001501</td>\n",
       "      <td>20231001</td>\n",
       "      <td>1326631656</td>\n",
       "      <td>20230101.0</td>\n",
       "      <td>20240701</td>\n",
       "      <td>20240404.0</td>\n",
       "      <td>N</td>\n",
       "      <td>6014</td>\n",
       "      <td>35</td>\n",
       "      <td></td>\n",
       "      <td>...</td>\n",
       "      <td>NaN</td>\n",
       "      <td>4013.0</td>\n",
       "      <td>NaN</td>\n",
       "      <td>1.0</td>\n",
       "      <td>NaN</td>\n",
       "      <td></td>\n",
       "      <td>0.0</td>\n",
       "      <td>20240604</td>\n",
       "      <td>3102.0</td>\n",
       "      <td>0.0</td>\n",
       "    </tr>\n",
       "  </tbody>\n",
       "</table>\n",
       "<p>5 rows × 33 columns</p>\n",
       "</div>"
      ],
      "text/plain": [
       "  providerCcn  effectiveDate nationalProviderIdentifier  fiscalYearBeginDate  \\\n",
       "0      001500       20220407                 1578220653           20220407.0   \n",
       "1      001500       20221001                 1578220653           20220407.0   \n",
       "2      001500       20231001                 1578220653           20220407.0   \n",
       "3      001501       20220211                 1326631656           20220211.0   \n",
       "4      001501       20231001                 1326631656           20230101.0   \n",
       "\n",
       "   exportDate  terminationDate waiverIndicator  intermediaryNumber  \\\n",
       "0    20240701              NaN               N                6014   \n",
       "1    20240701              NaN               N                6014   \n",
       "2    20240701              NaN               N                6014   \n",
       "3    20240701              NaN               N                6014   \n",
       "4    20240701       20240404.0               N                6014   \n",
       "\n",
       "  providerType specialLocalityIndicator  ... deviceCostToChargeRatio  \\\n",
       "0           35                           ...                     0.0   \n",
       "1           35                           ...                     0.0   \n",
       "2           35                           ...                     0.0   \n",
       "3           35                           ...                     0.0   \n",
       "4           35                           ...                     NaN   \n",
       "\n",
       "   countyCode paymentCbsa  paymentModelAdjustment  \\\n",
       "0      4013.0         NaN                     1.0   \n",
       "1      4013.0         NaN                     1.0   \n",
       "2      4013.0                                 1.0   \n",
       "3      4013.0         NaN                     1.0   \n",
       "4      4013.0         NaN                     1.0   \n",
       "\n",
       "  medicarePerformanceAdjustment supplementalWageIndexIndicator  \\\n",
       "0                           NaN                                  \n",
       "1                           NaN                                  \n",
       "2                           NaN                                  \n",
       "3                           NaN                                  \n",
       "4                           NaN                                  \n",
       "\n",
       "  supplementalWageIndex  lastUpdated carrierCode localityCode  \n",
       "0                   0.0     20220727      3102.0          0.0  \n",
       "1                   0.0     20221115      3102.0          0.0  \n",
       "2                   0.0     20231003      3102.0          0.0  \n",
       "3                   0.0     20220822      3102.0          0.0  \n",
       "4                   0.0     20240604      3102.0          0.0  \n",
       "\n",
       "[5 rows x 33 columns]"
      ]
     },
     "execution_count": 15,
     "metadata": {},
     "output_type": "execute_result"
    }
   ],
   "source": [
    "df.head()"
   ]
  },
  {
   "cell_type": "code",
   "execution_count": null,
   "metadata": {},
   "outputs": [],
   "source": [
    "columns = list(df.columns)\n",
    "columns"
   ]
  },
  {
   "cell_type": "code",
   "execution_count": null,
   "metadata": {},
   "outputs": [],
   "source": [
    "for col in columns:\n",
    "    # get rows where a col in None\n",
    "    df[[df[col]]]"
   ]
  }
 ],
 "metadata": {
  "kernelspec": {
   "display_name": "venv",
   "language": "python",
   "name": "python3"
  },
  "language_info": {
   "codemirror_mode": {
    "name": "ipython",
    "version": 3
   },
   "file_extension": ".py",
   "mimetype": "text/x-python",
   "name": "python",
   "nbconvert_exporter": "python",
   "pygments_lexer": "ipython3",
   "version": "3.12.1"
  }
 },
 "nbformat": 4,
 "nbformat_minor": 2
}
