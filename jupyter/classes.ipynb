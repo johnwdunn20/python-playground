{
 "cells": [
  {
   "cell_type": "code",
   "execution_count": null,
   "metadata": {},
   "outputs": [],
   "source": [
    "# Singleton: A class of which only a single instance can exist\n",
    "\n",
    "class Singleton_1:\n",
    "    # static variable to hold the single instance of the class\n",
    "    _instance = None\n",
    "\n",
    "    def __new__(cls):\n",
    "        if not cls._instance:\n",
    "            cls._instance = super(Singleton, cls).__new__(cls)\n",
    "        return cls._instance"
   ]
  },
  {
   "cell_type": "code",
   "execution_count": 8,
   "metadata": {},
   "outputs": [
    {
     "name": "stdout",
     "output_type": "stream",
     "text": [
      "Singleton instance created\n"
     ]
    }
   ],
   "source": [
    "class Singleton_2:\n",
    "    # static variable to hold the single instance of the class\n",
    "    _instance = None\n",
    "\n",
    "    # private constructor to prevent direct isntantiation\n",
    "    def __init__(self) -> None:\n",
    "        if Singleton_2._instance is not None:\n",
    "            raise Exception(\"This class is a singleton!\")\n",
    "        else:\n",
    "            Singleton_2._instance = self\n",
    "            print(\"Singleton instance created\")\n",
    "    \n",
    "    # Public static method to get the instance\n",
    "    # Static methods don't have access to the instance or the class. Are used for utility functions that perform a task in isolation\n",
    "    @staticmethod    \n",
    "    def get_instance():\n",
    "        if Singleton_2._instance is None:\n",
    "            Singleton_2()\n",
    "        return Singleton_2._instance\n",
    "            \n",
    "my_singleton = Singleton_2()\n",
    "my_singleton2 = Singleton_2.get_instance()\n",
    "my_singleton2 = Singleton_2.get_instance()\n",
    "\n",
    "# This will raise an exception\n",
    "# my_singleton2 = Singleton_2()"
   ]
  },
  {
   "cell_type": "code",
   "execution_count": null,
   "metadata": {},
   "outputs": [],
   "source": []
  }
 ],
 "metadata": {
  "kernelspec": {
   "display_name": "venv",
   "language": "python",
   "name": "python3"
  },
  "language_info": {
   "codemirror_mode": {
    "name": "ipython",
    "version": 3
   },
   "file_extension": ".py",
   "mimetype": "text/x-python",
   "name": "python",
   "nbconvert_exporter": "python",
   "pygments_lexer": "ipython3",
   "version": "3.12.1"
  }
 },
 "nbformat": 4,
 "nbformat_minor": 2
}
