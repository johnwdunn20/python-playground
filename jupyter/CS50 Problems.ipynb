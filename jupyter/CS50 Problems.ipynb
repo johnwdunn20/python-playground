{
 "cells": [
  {
   "cell_type": "markdown",
   "id": "874791b4",
   "metadata": {},
   "source": [
    "# PROBLEM SET 0"
   ]
  },
  {
   "cell_type": "code",
   "execution_count": 2,
   "id": "2678a7a3",
   "metadata": {
    "scrolled": true
   },
   "outputs": [
    {
     "name": "stdout",
     "output_type": "stream",
     "text": [
      "send a message: Hello\n",
      "hello\n"
     ]
    }
   ],
   "source": [
    "# INDOOR VOICE\n",
    "# Implement a program in Python that prompts the user for input and then outputs that same input in lowercase.\n",
    "# Punctuation and whitespace should be outputted unchanged\n",
    "# You’re welcome, but not required, to prompt the user explicitly,\n",
    "# as by passing a str of your own as an argument to input.\n",
    "\n",
    "user_message = input('send a message: ')\n",
    "print(user_message.lower())"
   ]
  },
  {
   "cell_type": "code",
   "execution_count": 6,
   "id": "1fb1b803",
   "metadata": {
    "scrolled": true
   },
   "outputs": [
    {
     "name": "stdout",
     "output_type": "stream",
     "text": [
      "share text: hello my name is john\n",
      "hello...my...name...is...john\n"
     ]
    }
   ],
   "source": [
    "# PLAYBACK SPEED\n",
    "# implement a program in Python that prompts the user for input and then outputs that same input,\n",
    "# replacing each space with ... (i.e., three periods).\n",
    "\n",
    "def playback_speed():\n",
    "    user_input = input('share text: ')\n",
    "    return user_input.replace(' ', '...')\n",
    "#     result = ''\n",
    "#     for char in user_input:\n",
    "#         if char == ' ':\n",
    "#             result = result + '...'\n",
    "#         else:\n",
    "#             result = result + char\n",
    "#     return result\n",
    "    \n",
    "print(playback_speed())\n"
   ]
  },
  {
   "cell_type": "code",
   "execution_count": 8,
   "id": "4ee7fb5a",
   "metadata": {},
   "outputs": [],
   "source": [
    "# MAKING FACES\n",
    "# In a file called faces.py, implement a function called convert that accepts a str as input and\n",
    "# returns that same input with any :) converted to 🙂 (otherwise known as a slightly smiling face)\n",
    "# and any :( converted to 🙁 (otherwise known as a slightly frowning face).\n",
    "# All other text should be returned unchanged.\n",
    "# Then, in that same file, implement a function called main that prompts the user for input,\n",
    "# calls convert on that input, and prints the result.\n",
    "# You’re welcome, but not required, to prompt the user explicitly, as by passing a str of your \n",
    "# own as an argument to input. Be sure to call main at the bottom of your file.\n",
    "\n",
    "# ** I modified this to replace :) with :( and the reverse"
   ]
  },
  {
   "cell_type": "code",
   "execution_count": 21,
   "id": "c9e7618b",
   "metadata": {},
   "outputs": [
    {
     "name": "stdout",
     "output_type": "stream",
     "text": [
      "0\n",
      "2\n",
      "3\n",
      "5\n",
      ":( :) \n"
     ]
    }
   ],
   "source": [
    "def convert(message):\n",
    "    converted_str = ''\n",
    "    index = 0\n",
    "    while index < len(message):\n",
    "        print(index)\n",
    "        if message[index] == ':' and index < len(message) - 2:\n",
    "            if message[index + 1] == '(':\n",
    "                converted_str = converted_str + ':)'\n",
    "                index += 1\n",
    "            elif message[index + 1] == ')':\n",
    "                converted_str = converted_str + ':('\n",
    "                index += 1\n",
    "        else:\n",
    "            converted_str = converted_str + message[index]\n",
    "            \n",
    "        index +=1\n",
    "                    \n",
    "    return converted_str\n",
    "            \n",
    "def main():\n",
    "#     user_input = input('write your message here: ')\n",
    "    user_input = ':) :( '\n",
    "    print(convert(user_input))\n",
    "    \n",
    "main()"
   ]
  },
  {
   "cell_type": "code",
   "execution_count": 23,
   "id": "54a7898f",
   "metadata": {},
   "outputs": [
    {
     "name": "stdout",
     "output_type": "stream",
     "text": [
      "How much was the meal? $40.59\n",
      "What percentage would you like to tip? 15%\n",
      "Leave $608.85\n"
     ]
    }
   ],
   "source": [
    "# DOLLARS TO FLOAT\n",
    "def main():\n",
    "    dollars = dollars_to_float(input(\"How much was the meal? \"))\n",
    "    percent = percent_to_float(input(\"What percentage would you like to tip? \"))\n",
    "    tip = dollars * percent\n",
    "    print(f\"Leave ${tip:.2f}\")\n",
    "\n",
    "\n",
    "def dollars_to_float(d):\n",
    "    # d will be formatted as $##.##\n",
    "    return float(d[1:])\n",
    "\n",
    "\n",
    "def percent_to_float(p):\n",
    "    # p will be a str formatted as ##%\n",
    "    return float(p[0:2])\n",
    "\n",
    "\n",
    "main()"
   ]
  },
  {
   "cell_type": "markdown",
   "id": "4e93d162",
   "metadata": {},
   "source": [
    "# Problem Set 1"
   ]
  },
  {
   "cell_type": "code",
   "execution_count": 39,
   "id": "2d4c8229",
   "metadata": {},
   "outputs": [
    {
     "name": "stdout",
     "output_type": "stream",
     "text": [
      "Yes\n"
     ]
    }
   ],
   "source": [
    "# Deep Thought\n",
    "# implement a program that prompts the user for the answer to the Great Question of Life,\n",
    "# the Universe and Everything, outputting Yes if the user inputs 42 or (case-insensitively)\n",
    "# forty-two or forty two\n",
    "# Otherwise output No.\n",
    "\n",
    "def deep_thought(user_answer):\n",
    "    if isinstance(user_answer, int) and user_answer == 42:\n",
    "        return 'Yes'\n",
    "    elif isinstance(user_answer, str) and (user_answer.lower() == 'forty-two' or user_answer.lower() == 'forty two'):\n",
    "        return 'Yes'\n",
    "    return 'No'\n",
    "\n",
    "print(deep_thought('forty TWO'))\n",
    "\n",
    "# print('forty TWO'.lower() == 'forty two')"
   ]
  },
  {
   "cell_type": "code",
   "execution_count": 7,
   "id": "e61a1d11",
   "metadata": {},
   "outputs": [
    {
     "name": "stdout",
     "output_type": "stream",
     "text": [
      "7.0\n"
     ]
    }
   ],
   "source": [
    "# Math Intrepreter\n",
    "def calculator(calculation):\n",
    "    match calculation[2]:\n",
    "        case '+':\n",
    "            return float(calculation[0]) + float(calculation[4])\n",
    "        case '*':\n",
    "            return float(calculation[0]) * float(calculation[4])\n",
    "        case '-':\n",
    "            return float(calculation[0]) - float(calculation[4])\n",
    "        case '/':\n",
    "            return float(calculation[0]) / float(calculation[4])\n",
    "        \n",
    "print(calculator('4 + 3'))"
   ]
  },
  {
   "cell_type": "markdown",
   "id": "5b7b1986",
   "metadata": {},
   "source": [
    "# Problem Set 2"
   ]
  },
  {
   "cell_type": "code",
   "execution_count": 4,
   "id": "7560bbee",
   "metadata": {},
   "outputs": [
    {
     "data": {
      "text/plain": [
       "'first_name'"
      ]
     },
     "execution_count": 4,
     "metadata": {},
     "output_type": "execute_result"
    }
   ],
   "source": [
    "# camelCase to snake_case\n",
    "def snake_case(words):\n",
    "    result = ''\n",
    "    for char in words:\n",
    "        if char.isupper():\n",
    "            result += '_'\n",
    "        result += char.lower()\n",
    "    return result\n",
    "            \n",
    "    \n",
    "snake_case('firstName')"
   ]
  },
  {
   "cell_type": "code",
   "execution_count": 7,
   "id": "a877f5f4",
   "metadata": {},
   "outputs": [
    {
     "name": "stdout",
     "output_type": "stream",
     "text": [
      "Add a coin: hello\n",
      "Add a coin: test\n",
      "Add a coin: 50\n"
     ]
    },
    {
     "data": {
      "text/plain": [
       "0"
      ]
     },
     "execution_count": 7,
     "metadata": {},
     "output_type": "execute_result"
    }
   ],
   "source": [
    "# coke machine\n",
    "# takes in 5, 10, 25 cent coins and prompts until total is >= 50. Then returns change\n",
    "def coke_machine():\n",
    "    total = 0\n",
    "    while total < 50:\n",
    "        try:\n",
    "            total += int(input('Add a coin: '))\n",
    "        except:\n",
    "            continue\n",
    "    return total - 50\n",
    "\n",
    "coke_machine()"
   ]
  },
  {
   "cell_type": "code",
   "execution_count": 24,
   "id": "85a15df2",
   "metadata": {},
   "outputs": [
    {
     "name": "stdout",
     "output_type": "stream",
     "text": [
      "{65: None, 69: None, 73: None, 79: None, 85: None, 97: None, 101: None, 105: None, 111: None, 117: None}\n"
     ]
    },
    {
     "data": {
      "text/plain": [
       "'hll'"
      ]
     },
     "execution_count": 24,
     "metadata": {},
     "output_type": "execute_result"
    }
   ],
   "source": [
    "# remove all vowels\n",
    "def remove_vowels(word):\n",
    "    vowels = 'AEIOUaeiou'\n",
    "#     Using list comprehension and join\n",
    "#     return ''.join([char for char in word if char not in vowels])\n",
    "\n",
    "#     Using str.translate\n",
    "    # Create a translation table. For deletion, only the third parameter is needed.\n",
    "    trans_table = str.maketrans('', '', vowels)\n",
    "    print(trans_table)\n",
    "    # Return the translated string, where all vowels are removed\n",
    "    return word.translate(trans_table)\n",
    "\n",
    "\n",
    "\n",
    "\n",
    "remove_vowels('hello')"
   ]
  },
  {
   "cell_type": "code",
   "execution_count": 35,
   "id": "b22d8c14",
   "metadata": {},
   "outputs": [
    {
     "name": "stdout",
     "output_type": "stream",
     "text": [
      "plate: \n",
      "Invalid\n"
     ]
    }
   ],
   "source": [
    "# VANITY PLATES\n",
    "# “All vanity plates must start with at least two letters.”\n",
    "# “… vanity plates may contain a maximum of 6 characters (letters or numbers) and a minimum of 2 characters.”\n",
    "# “Numbers cannot be used in the middle of a plate; they must come at the end. For example, AAA222 would be an acceptable … vanity plate; AAA22A would not be acceptable. The first number used cannot be a ‘0’.”\n",
    "# “No periods, spaces, or punctuation marks are allowed.”\n",
    "\n",
    "def is_valid(plate: str) -> bool:\n",
    "#     length greater than 2 or less than 6\n",
    "    if len(plate) < 2 or len(plate) > 6:\n",
    "        return False\n",
    "#     first 2 characters are letters\n",
    "    if not plate[0:2].isalpha():\n",
    "        return False\n",
    "#     numbers must be at the end and only numbers of letters\n",
    "    for index, char in enumerate(plate):\n",
    "        if index == 0 and char == '0':\n",
    "            return False\n",
    "        if not (char.isalpha() or char.isnumeric()):\n",
    "            return False\n",
    "        if char.isnumeric():\n",
    "            if not plate[index:].isnumeric():\n",
    "                return False\n",
    "            \n",
    "    return True\n",
    "\n",
    "def main():\n",
    "    plate = input('plate: ')\n",
    "    if is_valid(plate):\n",
    "        print('Valid')\n",
    "    else:\n",
    "        print('Invalid')\n",
    "        \n",
    "main()"
   ]
  },
  {
   "cell_type": "markdown",
   "id": "c67adb78",
   "metadata": {},
   "source": [
    "# Problem Set 3"
   ]
  },
  {
   "cell_type": "code",
   "execution_count": 50,
   "id": "ae05b637",
   "metadata": {},
   "outputs": [
    {
     "name": "stdout",
     "output_type": "stream",
     "text": [
      "Enter a fraction as X/Y: 1/1000\n",
      "1.0\n",
      "1000.0\n",
      "0\n"
     ]
    },
    {
     "data": {
      "text/plain": [
       "'E'"
      ]
     },
     "execution_count": 50,
     "metadata": {},
     "output_type": "execute_result"
    }
   ],
   "source": [
    "# Fuel Gage\n",
    "def fuel_gage() -> str:\n",
    "    while True:\n",
    "        try:\n",
    "            fraction = input('Enter a fraction as X/Y: ')\n",
    "            print(float(fraction[0]))\n",
    "            print(float(fraction[2:]))\n",
    "            percentage = round(int(fraction[0]) / int(fraction[2:]) * 100)\n",
    "            print(percentage)\n",
    "            if percentage >= 99:\n",
    "                return 'F'\n",
    "            elif percentage <= 1:\n",
    "                return 'E'\n",
    "            else:\n",
    "                return f'{percentage}%'\n",
    "        except:\n",
    "            continue\n",
    "\n",
    "fuel_gage()"
   ]
  },
  {
   "cell_type": "code",
   "execution_count": 1,
   "id": "bb04c121",
   "metadata": {},
   "outputs": [
    {
     "name": "stdout",
     "output_type": "stream",
     "text": [
      "what is your order?burrito\n",
      "what is your order?quesadilla\n",
      "what is your order?d\n"
     ]
    },
    {
     "data": {
      "text/plain": [
       "'$16.0'"
      ]
     },
     "execution_count": 1,
     "metadata": {},
     "output_type": "execute_result"
    }
   ],
   "source": [
    "# Felpie's Taqueria\n",
    "menu = {\n",
    "    \"Baja Taco\": 4.25,\n",
    "    \"Burrito\": 7.50,\n",
    "    \"Bowl\": 8.50,\n",
    "    \"Nachos\": 11.00,\n",
    "    \"Quesadilla\": 8.50,\n",
    "    \"Super Burrito\": 8.50,\n",
    "    \"Super Quesadilla\": 9.50,\n",
    "    \"Taco\": 3.00,\n",
    "    \"Tortilla Salad\": 8.00\n",
    "}\n",
    "\n",
    "def order_felipes():\n",
    "    total_cost = 0\n",
    "    while True:\n",
    "        try:\n",
    "            order = input('what is your order?')\n",
    "            if order == 'd' or order == 'D':\n",
    "                return f'${round(total_cost, 2)}';\n",
    "            elif order.title() in menu:\n",
    "                total_cost += menu[order.title()]\n",
    "        except:\n",
    "            pass\n",
    "        \n",
    "order_felipes()\n",
    "            "
   ]
  },
  {
   "cell_type": "code",
   "execution_count": null,
   "id": "5eae9e02",
   "metadata": {},
   "outputs": [],
   "source": [
    "print('hello everyone'.title())"
   ]
  },
  {
   "cell_type": "code",
   "execution_count": null,
   "id": "9c24bae1",
   "metadata": {},
   "outputs": [],
   "source": [
    "# GROCERY\n",
    "def grocery():\n",
    "    grocery_items = {}\n",
    "    while True:\n",
    "        new_item = input('Enter your grocery item: ').upper()\n",
    "        if new_item == 'd' or new_item == 'D':\n",
    "#             output the user’s grocery list in all uppercase, sorted alphabetically by item,\n",
    "#             prefixing each line with the number of times the user inputted that item\n",
    "            keys =  list(grocery_items.keys())\n",
    "            keys.sort()\n",
    "            for key in keys:\n",
    "                print(f'{grocery_items[key]}: {key}')\n",
    "            return\n",
    "        elif new_item in grocery_items:\n",
    "            grocery_items[new_item] += 1\n",
    "        else:\n",
    "            grocery_items[new_item] = 1\n",
    "grocery()"
   ]
  },
  {
   "cell_type": "code",
   "execution_count": 40,
   "id": "1769755e",
   "metadata": {},
   "outputs": [
    {
     "name": "stdout",
     "output_type": "stream",
     "text": [
      "(3, 'banana')\n",
      "[(3, 'banana')]\n"
     ]
    }
   ],
   "source": [
    "arr = [(1, 'pear'), (1, 'apple'), (3, 'banana')]\n",
    "x = list(filter(lambda x: x[0] > 1, arr))\n",
    "for item in x:\n",
    "    print(item)\n",
    "print(x)"
   ]
  },
  {
   "cell_type": "code",
   "execution_count": 45,
   "id": "3b9ff142",
   "metadata": {},
   "outputs": [
    {
     "name": "stdout",
     "output_type": "stream",
     "text": [
      "0\n"
     ]
    }
   ],
   "source": [
    "from functools import reduce\n",
    "nums = [1,2,3,4,5, 0]\n",
    "y = reduce(lambda x, y: x * y, nums)\n",
    "print(y)"
   ]
  },
  {
   "cell_type": "code",
   "execution_count": 19,
   "id": "d1f04341",
   "metadata": {},
   "outputs": [
    {
     "name": "stdout",
     "output_type": "stream",
     "text": [
      "enter a date MM/DD/YYYY or M, D Y: September 4, 2023\n",
      "Written\n",
      "month:  9\n",
      "4\n"
     ]
    },
    {
     "data": {
      "text/plain": [
       "'4/9/2023'"
      ]
     },
     "execution_count": 19,
     "metadata": {},
     "output_type": "execute_result"
    }
   ],
   "source": [
    "# OUTDATED\n",
    "months = [\n",
    "    \"January\",\n",
    "    \"February\",\n",
    "    \"March\",\n",
    "    \"April\",\n",
    "    \"May\",\n",
    "    \"June\",\n",
    "    \"July\",\n",
    "    \"August\",\n",
    "    \"September\",\n",
    "    \"September\"\n",
    "    \"October\",\n",
    "    \"November\",\n",
    "    \"December\"\n",
    "]\n",
    "def outdated():\n",
    "#     while True:\n",
    "        try:\n",
    "            user_date = input('enter a date MM/DD/YYYY or M, D Y: ')\n",
    "#             if first char is a number, try MM/DD/YYY format\n",
    "            if user_date[0].isnumeric():\n",
    "                dates_list = user_date.split('/')\n",
    "                return f'{dates_list[1]}/{dates_list[0]}/{dates_list[2]}'\n",
    "            else:\n",
    "                print('Written')\n",
    "                dates_list = user_date.split(' ')\n",
    "#                 throws valueerror if not in the list\n",
    "#                 month = months.index(dates_list[0]) + 1\n",
    "#                 to not get an error:\n",
    "                month = next((i + 1 for i, x in enumerate(months) if x == dates_list[0]), None)\n",
    "                if not month:\n",
    "                    return 'Not a valid month'\n",
    "                print('month: ', month)\n",
    "                day = dates_list[1].replace(',','')\n",
    "                print(day)\n",
    "                return f'{day}/{month}/{dates_list[2]}'\n",
    "        except Error:\n",
    "#             continue\n",
    "            print(Error)\n",
    "        \n",
    "outdated()"
   ]
  },
  {
   "cell_type": "code",
   "execution_count": 22,
   "id": "43148b92",
   "metadata": {},
   "outputs": [
    {
     "name": "stdout",
     "output_type": "stream",
     "text": [
      "0\n",
      "1\n",
      "2\n",
      "3\n"
     ]
    }
   ],
   "source": [
    "# Generator function practice\n",
    "def basic_counter():\n",
    "    n = 0\n",
    "    while True:\n",
    "        yield n\n",
    "        n += 1\n",
    "        \n",
    "counter = basic_counter()\n",
    "\n",
    "print(next(counter))\n",
    "print(next(counter))\n",
    "print(next(counter))\n",
    "print(next(counter))\n"
   ]
  },
  {
   "cell_type": "code",
   "execution_count": 5,
   "id": "1aa294f9",
   "metadata": {},
   "outputs": [
    {
     "ename": "SyntaxError",
     "evalue": "invalid syntax (1243427835.py, line 3)",
     "output_type": "error",
     "traceback": [
      "\u001b[0;36m  Cell \u001b[0;32mIn[5], line 3\u001b[0;36m\u001b[0m\n\u001b[0;31m    global val = 1\u001b[0m\n\u001b[0m               ^\u001b[0m\n\u001b[0;31mSyntaxError\u001b[0m\u001b[0;31m:\u001b[0m invalid syntax\n"
     ]
    }
   ],
   "source": []
  }
 ],
 "metadata": {
  "kernelspec": {
   "display_name": "Python 3 (ipykernel)",
   "language": "python",
   "name": "python3"
  },
  "language_info": {
   "codemirror_mode": {
    "name": "ipython",
    "version": 3
   },
   "file_extension": ".py",
   "mimetype": "text/x-python",
   "name": "python",
   "nbconvert_exporter": "python",
   "pygments_lexer": "ipython3",
   "version": "3.11.5"
  }
 },
 "nbformat": 4,
 "nbformat_minor": 5
}
