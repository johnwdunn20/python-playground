{
 "cells": [
  {
   "cell_type": "code",
   "execution_count": 2,
   "metadata": {},
   "outputs": [],
   "source": [
    "import time\n",
    "\n",
    "def timer(func):\n",
    "    def wrapper(*args, **kwargs):\n",
    "        start_time = time.time()\n",
    "        result = func(*args, **kwargs)\n",
    "        end_time = time.time()\n",
    "        print(f'Funcion {func.__name__} too {end_time - start_time:.4f} seconds')\n",
    "        return result\n",
    "    return wrapper"
   ]
  },
  {
   "cell_type": "code",
   "execution_count": 3,
   "metadata": {},
   "outputs": [],
   "source": [
    "def example_function(msg):\n",
    "    for _ in range(1000000):\n",
    "        pass\n",
    "    return f'Done with message: {msg}'\n"
   ]
  },
  {
   "cell_type": "code",
   "execution_count": 4,
   "metadata": {},
   "outputs": [
    {
     "name": "stdout",
     "output_type": "stream",
     "text": [
      "Funcion example_function too 0.0130 seconds\n"
     ]
    },
    {
     "data": {
      "text/plain": [
       "'Done with message: hey'"
      ]
     },
     "execution_count": 4,
     "metadata": {},
     "output_type": "execute_result"
    }
   ],
   "source": [
    "# This is the same as using a decorator\n",
    "timed_example = timer(example_function)\n",
    "timed_example('hey')"
   ]
  },
  {
   "cell_type": "code",
   "execution_count": 5,
   "metadata": {},
   "outputs": [
    {
     "name": "stdout",
     "output_type": "stream",
     "text": [
      "Funcion example_function2 too 0.0115 seconds\n"
     ]
    },
    {
     "data": {
      "text/plain": [
       "'Done with message: hello world'"
      ]
     },
     "execution_count": 5,
     "metadata": {},
     "output_type": "execute_result"
    }
   ],
   "source": [
    "@timer\n",
    "def example_function2(msg):\n",
    "    for _ in range(1000000):\n",
    "        pass\n",
    "    return f'Done with message: {msg}'\n",
    "\n",
    "example_function2(msg='hello world')"
   ]
  },
  {
   "cell_type": "code",
   "execution_count": 18,
   "metadata": {},
   "outputs": [
    {
     "name": "stdout",
     "output_type": "stream",
     "text": [
      "Average time: 0.0121 seconds\n"
     ]
    }
   ],
   "source": [
    "# A more accurate way to measure time is using the timeit module\n",
    "import timeit\n",
    "\n",
    "# use a lambda function to pass arguments to the function\n",
    "duration = timeit.timeit(lambda: example_function(msg='hello'), number=5)\n",
    "print(f'Average time: {duration/5:.4f} seconds')"
   ]
  },
  {
   "cell_type": "markdown",
   "metadata": {},
   "source": [
    "### Using decorators in classes"
   ]
  },
  {
   "cell_type": "code",
   "execution_count": 33,
   "metadata": {},
   "outputs": [],
   "source": [
    "class Circle:\n",
    "    def __init__(self, radius):\n",
    "        # Python doesn't striclty enforce private variables, but it is a convention to use _ to indicate that a variable is private\n",
    "        self._radius = radius\n",
    "\n",
    "    # property decorator allows us to access the radius as an attribute instead of a method\n",
    "    @property\n",
    "    def radius(self):\n",
    "        print('Getting radius')\n",
    "        return self._radius\n",
    "    \n",
    "    # can also use a setter to change the value of the radius\n",
    "    @radius.setter\n",
    "    def radius(self, value):\n",
    "        print('Setting radius')\n",
    "        if value < 0:\n",
    "            raise ValueError('Radius must be non-negative')\n",
    "        self._radius = value\n",
    "        \n",
    "        \n",
    "    # can also use a deleter to delete the radius\n",
    "    @radius.deleter\n",
    "    def radius(self):\n",
    "        print('Deleting radius')\n",
    "        del self._radius"
   ]
  },
  {
   "cell_type": "code",
   "execution_count": 37,
   "metadata": {},
   "outputs": [
    {
     "name": "stdout",
     "output_type": "stream",
     "text": [
      "Getting radius\n",
      "5\n",
      "Setting radius\n",
      "Getting radius\n",
      "10\n",
      "Deleting radius\n"
     ]
    }
   ],
   "source": [
    "my_circle = Circle(radius=5)\n",
    "\n",
    "# because of the property decorator, we can access the radius as an attribute (and print statements will be executed)\n",
    "print(my_circle.radius)\n",
    "\n",
    "# because of the setter decorator, we can change the radius as an attribute (and print statements will be executed)\n",
    "my_circle.radius = 10\n",
    "print(my_circle.radius)\n",
    "\n",
    "# delete radius - call it like this:\n",
    "del my_circle.radius"
   ]
  },
  {
   "cell_type": "markdown",
   "metadata": {},
   "source": [
    "## Static Methods"
   ]
  },
  {
   "cell_type": "code",
   "execution_count": 39,
   "metadata": {},
   "outputs": [],
   "source": [
    "class Math:\n",
    "    # static method is used for a method that doesn't belong to an instance of the class\n",
    "    @staticmethod\n",
    "    def add(a, b):\n",
    "        return a + b\n",
    "\n",
    "    @staticmethod\n",
    "    def multiply(a, b):\n",
    "        return a * b"
   ]
  },
  {
   "cell_type": "code",
   "execution_count": 41,
   "metadata": {},
   "outputs": [
    {
     "name": "stdout",
     "output_type": "stream",
     "text": [
      "15\n",
      "50\n"
     ]
    }
   ],
   "source": [
    "print(Math.add(5, 10))\n",
    "\n",
    "my_math = Math()\n",
    "\n",
    "# can also call static methods from an instance of the class, but usually dont' do this.\n",
    "# static methods are meant to organize methods\n",
    "print(my_math.multiply(5, 10))"
   ]
  },
  {
   "cell_type": "markdown",
   "metadata": {},
   "source": [
    "## Class Method"
   ]
  },
  {
   "cell_type": "code",
   "execution_count": 44,
   "metadata": {},
   "outputs": [],
   "source": [
    "class Person:\n",
    "    species = 'Homosapien'\n",
    "    \n",
    "    # class method transforms the first argument to the class itself instead of the instance (usually called self)\n",
    "    # so can only access class variables, not instance variables\n",
    "    @classmethod\n",
    "    def get_species(cls):\n",
    "        print(cls)\n",
    "        return cls.species\n",
    "    "
   ]
  },
  {
   "cell_type": "code",
   "execution_count": 45,
   "metadata": {},
   "outputs": [
    {
     "name": "stdout",
     "output_type": "stream",
     "text": [
      "<class '__main__.Person'>\n",
      "Homosapien\n",
      "<class '__main__.Person'>\n",
      "Homosapien\n"
     ]
    }
   ],
   "source": [
    "print(Person.get_species())\n",
    "\n",
    "john = Person()\n",
    "print(john.get_species())"
   ]
  },
  {
   "cell_type": "markdown",
   "metadata": {},
   "source": [
    "### FuncTools"
   ]
  },
  {
   "cell_type": "code",
   "execution_count": 57,
   "metadata": {},
   "outputs": [],
   "source": [
    "# Building our own cache\n",
    "def fibonacci_cache(n, cache=None):\n",
    "    if cache is None:\n",
    "        cache = {}\n",
    "    if n in cache:\n",
    "        return cache[n]\n",
    "    if n <= 1:\n",
    "        return n\n",
    "    print(f'Calculating fibonacci({n})')\n",
    "    cache[n] = fibonacci_cache(n-1, cache) + fibonacci_cache(n-2, cache)\n",
    "    return cache[n]"
   ]
  },
  {
   "cell_type": "code",
   "execution_count": 58,
   "metadata": {},
   "outputs": [
    {
     "name": "stdout",
     "output_type": "stream",
     "text": [
      "Calculating fibonacci(6)\n",
      "Calculating fibonacci(5)\n",
      "Calculating fibonacci(4)\n",
      "Calculating fibonacci(3)\n",
      "Calculating fibonacci(2)\n"
     ]
    },
    {
     "data": {
      "text/plain": [
       "8"
      ]
     },
     "execution_count": 58,
     "metadata": {},
     "output_type": "execute_result"
    }
   ],
   "source": [
    "fibonacci_cache(6)"
   ]
  },
  {
   "cell_type": "code",
   "execution_count": 61,
   "metadata": {},
   "outputs": [],
   "source": [
    "import functools\n",
    "\n",
    "# Using the built-in cache decorator\n",
    "# use functools.lru_cache if you want to limit the size of the cache to make sure it doesn't grow too large. Can specify the maxsize parameter\n",
    "@functools.cache\n",
    "def fibonacci(n):\n",
    "    if n <= 1:\n",
    "        return n\n",
    "    print(f'Calculating fibonacci({n})')\n",
    "    return fibonacci(n-1) + fibonacci(n-2)"
   ]
  },
  {
   "cell_type": "code",
   "execution_count": 62,
   "metadata": {},
   "outputs": [
    {
     "name": "stdout",
     "output_type": "stream",
     "text": [
      "Calculating fibonacci(6)\n",
      "Calculating fibonacci(5)\n",
      "Calculating fibonacci(4)\n",
      "Calculating fibonacci(3)\n",
      "Calculating fibonacci(2)\n"
     ]
    },
    {
     "data": {
      "text/plain": [
       "8"
      ]
     },
     "execution_count": 62,
     "metadata": {},
     "output_type": "execute_result"
    }
   ],
   "source": [
    "fibonacci(6)"
   ]
  },
  {
   "cell_type": "markdown",
   "metadata": {},
   "source": [
    "### DataClass"
   ]
  },
  {
   "cell_type": "markdown",
   "metadata": {},
   "source": []
  }
 ],
 "metadata": {
  "kernelspec": {
   "display_name": "venv",
   "language": "python",
   "name": "python3"
  },
  "language_info": {
   "codemirror_mode": {
    "name": "ipython",
    "version": 3
   },
   "file_extension": ".py",
   "mimetype": "text/x-python",
   "name": "python",
   "nbconvert_exporter": "python",
   "pygments_lexer": "ipython3",
   "version": "3.11.5"
  }
 },
 "nbformat": 4,
 "nbformat_minor": 2
}
