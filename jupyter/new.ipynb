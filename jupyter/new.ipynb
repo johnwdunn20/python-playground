{
 "cells": [
  {
   "cell_type": "code",
   "execution_count": 7,
   "metadata": {},
   "outputs": [
    {
     "name": "stdout",
     "output_type": "stream",
     "text": [
      "/Users/johndunn/anaconda3/bin/python\n",
      "hello\n"
     ]
    }
   ],
   "source": [
    "import sys\n",
    "print(sys.executable)\n",
    "print('hello')"
   ]
  },
  {
   "cell_type": "code",
   "execution_count": 11,
   "metadata": {},
   "outputs": [
    {
     "name": "stdout",
     "output_type": "stream",
     "text": [
      "60\n"
     ]
    }
   ],
   "source": [
    "def largest_product_three(arr):\n",
    "    largest = -float('inf')\n",
    "    second_largest = -float('inf')\n",
    "    third_largest = -float('inf')\n",
    "    for num in arr:\n",
    "      if num > largest:\n",
    "          third_largest = second_largest\n",
    "          second_largest = largest\n",
    "          largest = num\n",
    "      elif num > second_largest:\n",
    "          third_largest = second_largest\n",
    "          second_largest = num\n",
    "      elif num > third_largest:\n",
    "          third_largest = num\n",
    "    return largest * second_largest * third_largest\n",
    "\n",
    "print(largest_product_three([1, 2, 3, 4, 5, -100]))\n",
    "\n",
    "    "
   ]
  },
  {
   "cell_type": "markdown",
   "metadata": {},
   "source": []
  }
 ],
 "metadata": {
  "kernelspec": {
   "display_name": "Python 3 (ipykernel)",
   "language": "python",
   "name": "python3"
  },
  "language_info": {
   "codemirror_mode": {
    "name": "ipython",
    "version": 3
   },
   "file_extension": ".py",
   "mimetype": "text/x-python",
   "name": "python",
   "nbconvert_exporter": "python",
   "pygments_lexer": "ipython3",
   "version": "3.11.5"
  }
 },
 "nbformat": 4,
 "nbformat_minor": 2
}
