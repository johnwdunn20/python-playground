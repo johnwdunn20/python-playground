{
 "cells": [
  {
   "cell_type": "code",
   "execution_count": null,
   "id": "7de96f36",
   "metadata": {},
   "outputs": [],
   "source": [
    "def hello(to='World'):\n",
    "    print(f'Hello, {to}')\n",
    "          \n",
    "hello()"
   ]
  },
  {
   "cell_type": "code",
   "execution_count": null,
   "id": "4ba5b2bd",
   "metadata": {},
   "outputs": [],
   "source": [
    "hello(to='John')"
   ]
  },
  {
   "cell_type": "code",
   "execution_count": 10,
   "id": "9e3dd950",
   "metadata": {},
   "outputs": [
    {
     "name": "stdout",
     "output_type": "stream",
     "text": [
      "hi\n",
      "hi\n",
      "hi\n"
     ]
    }
   ],
   "source": [
    "for _ in range(3):\n",
    "    print('hi')"
   ]
  },
  {
   "cell_type": "code",
   "execution_count": 15,
   "id": "568bfcd9",
   "metadata": {},
   "outputs": [
    {
     "name": "stdout",
     "output_type": "stream",
     "text": [
      "meow\n",
      "meow\n",
      "meow\n"
     ]
    }
   ],
   "source": [
    "print('meow\\n' * 3, end='')"
   ]
  },
  {
   "cell_type": "code",
   "execution_count": 18,
   "id": "d62be4e5",
   "metadata": {},
   "outputs": [
    {
     "name": "stdout",
     "output_type": "stream",
     "text": [
      "Give a num: .1\n",
      "Please enter a positive integer\n",
      "Give a num: hey\n",
      "Please enter a positive integer\n",
      "Give a num: -1\n",
      "Give a num: 9\n",
      "user num is 9\n"
     ]
    }
   ],
   "source": [
    "while True:\n",
    "    try:\n",
    "        n = int(input('Give a num: '))\n",
    "        if n > 0:\n",
    "            break            \n",
    "    except:\n",
    "        print('Please enter a positive integer')\n",
    "        \n",
    "print(f'user num is {n}')            \n"
   ]
  },
  {
   "cell_type": "code",
   "execution_count": 19,
   "id": "b2990b1e",
   "metadata": {},
   "outputs": [
    {
     "name": "stdout",
     "output_type": "stream",
     "text": [
      "What's n? 8\n",
      "meow\n",
      "meow\n",
      "meow\n",
      "meow\n",
      "meow\n",
      "meow\n",
      "meow\n",
      "meow\n"
     ]
    }
   ],
   "source": [
    "def main():\n",
    "    meow(get_number())\n",
    "\n",
    "\n",
    "def get_number():\n",
    "    while True:\n",
    "        n = int(input(\"What's n? \"))\n",
    "        if n > 1:\n",
    "            return n\n",
    "\n",
    "\n",
    "def meow(n):\n",
    "    for _ in range(n):\n",
    "        print(\"meow\")\n",
    "\n",
    "\n",
    "main()"
   ]
  },
  {
   "cell_type": "code",
   "execution_count": 46,
   "id": "c34f466f",
   "metadata": {},
   "outputs": [
    {
     "name": "stdout",
     "output_type": "stream",
     "text": [
      "hermione\n",
      "['harry', 'ron', 'lavender']\n"
     ]
    }
   ],
   "source": [
    "students = ['harry', 'ron','lavender', 'hermione']\n",
    "# for i, student in enumerate(students):\n",
    "#     print(f'{i}: {student}')\n",
    "    \n",
    "name = students.pop()\n",
    "print(name)\n",
    "print(students)"
   ]
  },
  {
   "cell_type": "code",
   "execution_count": 63,
   "id": "c58b235f",
   "metadata": {},
   "outputs": [],
   "source": [
    "def isEven(num):\n",
    "#     print(num % 2)\n",
    "#     return num % 2 == 0\n",
    "    return True if num % 2 == 0 else False"
   ]
  },
  {
   "cell_type": "code",
   "execution_count": 64,
   "id": "b56a6341",
   "metadata": {},
   "outputs": [
    {
     "name": "stdout",
     "output_type": "stream",
     "text": [
      "True\n",
      "False\n"
     ]
    }
   ],
   "source": [
    "print(isEven(4))\n",
    "print(isEven(3))"
   ]
  },
  {
   "cell_type": "code",
   "execution_count": 72,
   "id": "37284b07",
   "metadata": {},
   "outputs": [
    {
     "name": "stdout",
     "output_type": "stream",
     "text": [
      "True\n"
     ]
    }
   ],
   "source": [
    "name = 'harry'\n",
    "match name:\n",
    "    case 'john' | 'harry':\n",
    "        print(True)\n",
    "    case 'test':\n",
    "        print(False)\n",
    "    case _:\n",
    "        print('Other')"
   ]
  },
  {
   "cell_type": "code",
   "execution_count": 77,
   "id": "aa3aec6b",
   "metadata": {},
   "outputs": [
    {
     "name": "stdout",
     "output_type": "stream",
     "text": [
      "harry, Gryfindor\n",
      "ron, Gryfindor\n",
      "draco, Slytherin\n"
     ]
    }
   ],
   "source": [
    "students_dict = {\n",
    "    'harry': 'Gryfindor',\n",
    "    'ron': 'Gryfindor',\n",
    "    'draco': 'Slytherin',\n",
    "}\n",
    "\n",
    "for student in students_dict:\n",
    "    print(student, students_dict[student], sep = ', ')"
   ]
  },
  {
   "cell_type": "code",
   "execution_count": 82,
   "id": "34132d67",
   "metadata": {},
   "outputs": [
    {
     "name": "stdout",
     "output_type": "stream",
     "text": [
      "###\n",
      "###\n",
      "###\n"
     ]
    }
   ],
   "source": [
    "def main():\n",
    "    print_col(3)\n",
    "    \n",
    "def print_col(size):\n",
    "    for width in range(size):\n",
    "        for height in range(size):\n",
    "            print('#', end='')\n",
    "        print()\n",
    "        \n",
    "        \n",
    "main()"
   ]
  },
  {
   "cell_type": "code",
   "execution_count": 6,
   "id": "ad01af78",
   "metadata": {},
   "outputs": [
    {
     "name": "stdout",
     "output_type": "stream",
     "text": [
      "enter int: hello\n",
      " is not an integer\n",
      "enter int: 7\n"
     ]
    }
   ],
   "source": [
    "while True:\n",
    "    try:\n",
    "        user_input = int(input('enter int: '))\n",
    "    except ValueError:\n",
    "        print(f' is not an integer')\n",
    "    else:\n",
    "        break"
   ]
  },
  {
   "cell_type": "code",
   "execution_count": 15,
   "id": "36a1bd0c",
   "metadata": {},
   "outputs": [
    {
     "name": "stdout",
     "output_type": "stream",
     "text": [
      "Tails\n",
      "1\n"
     ]
    }
   ],
   "source": [
    "import random\n",
    "\n",
    "coin = random.choice(['Heads','Tails'])\n",
    "print(coin)\n",
    "rand_int = random.randint(0,1)\n",
    "print(rand_int)"
   ]
  },
  {
   "cell_type": "code",
   "execution_count": 25,
   "id": "2b2c51b1",
   "metadata": {},
   "outputs": [
    {
     "name": "stdout",
     "output_type": "stream",
     "text": [
      "sum:  153\n",
      "clinching number 76.5\n",
      "count balls:  6\n",
      "running total:  83\n"
     ]
    }
   ],
   "source": [
    "sum = 0\n",
    "for num in range(1,18):\n",
    "    sum += num\n",
    "print('sum: ', sum)\n",
    "print('clinching number', sum/2)\n",
    "\n",
    "count = 0\n",
    "running_total = 0\n",
    "for num in reversed(range(1, 18)):\n",
    "    if num in [4,7,15]:\n",
    "        continue\n",
    "    count += 1\n",
    "    running_total += num\n",
    "    if running_total > sum /2:\n",
    "        print('count balls: ', count)\n",
    "        print('running total: ', running_total)\n",
    "        break"
   ]
  },
  {
   "cell_type": "code",
   "execution_count": 30,
   "id": "207cc380",
   "metadata": {},
   "outputs": [
    {
     "name": "stdout",
     "output_type": "stream",
     "text": [
      "83\n"
     ]
    }
   ],
   "source": [
    "print(17 + 16 + 14 + 13 + 12 + 11)"
   ]
  },
  {
   "cell_type": "code",
   "execution_count": 36,
   "id": "84935cf4",
   "metadata": {},
   "outputs": [
    {
     "name": "stdout",
     "output_type": "stream",
     "text": [
      "olleh\n",
      "[6, 5, 4, 3, 2, 1]\n"
     ]
    }
   ],
   "source": [
    "# reversals\n",
    "\n",
    "my_str = 'hello'\n",
    "reversed_str = my_str[::-1]\n",
    "print(reversed_str)\n",
    "\n",
    "my_list = [1,2,3,4,5,6]\n",
    "reversed_list = my_list[::-1]\n",
    "print(reversed_list)"
   ]
  },
  {
   "cell_type": "code",
   "execution_count": 18,
   "id": "9cf8a91e",
   "metadata": {},
   "outputs": [
    {
     "name": "stdout",
     "output_type": "stream",
     "text": [
      "tails\n",
      "3\n",
      "['queen', 'king', 'jack']\n"
     ]
    }
   ],
   "source": [
    "from random import choice, randint\n",
    "import random\n",
    "coin = choice(['heads','tails'])\n",
    "print(coin)\n",
    "\n",
    "num = randint(1,10)\n",
    "print(num)\n",
    "\n",
    "cards = ['jack', 'queen', 'king']\n",
    "random.shuffle(cards)\n",
    "print(cards)"
   ]
  },
  {
   "cell_type": "code",
   "execution_count": 36,
   "id": "63c1f3fc",
   "metadata": {},
   "outputs": [
    {
     "name": "stdout",
     "output_type": "stream",
     "text": [
      "<class 'requests.models.Response'>\n",
      "{\n",
      "  \"draft\": false,\n",
      "  \"categories\": [],\n",
      "  \"experience\": \"learn\",\n",
      "  \"type\": \"article\",\n",
      "  \"title\": \"HealthCare.gov Accessibility for People with Disabilities and Compliance with Section 508\",\n",
      "  \"meta-title\": \"Accessibility and Compliance with Section 508\",\n",
      "  \"meta-description\": \"Read about Accessibility and Compliance with Section 508 at Healthcare.gov. Learn how federal law requires access to information for the disabled\",\n",
      "  \"title-short\": \"Accessibility and Compliance with Section 508\",\n",
      "  \"bite\": \"Read about Accessibility and Compliance with Section 508 at Healthcare.gov. Learn how federal law requires access to information for the disabled\",\n",
      "  \"lang\": \"en\",\n",
      "  \"layout\": null,\n",
      "  \"seo-keywords\": \"\",\n",
      "  \"state\": \"\",\n",
      "  \"related\": [],\n",
      "  \"page_name\": \"HealthCare.gov Accessibility for People with Disabilities and Compliance with Section 508\",\n",
      "  \"page_type\": \"single-page\",\n",
      "  \"page_topic\": \"HealthCare.gov Accessibility for People with Disabilities and Compliance with Section 508\",\n",
      "  \"page_lifecycle\": \"education\",\n",
      "  \"page_audience\": \"individuals\",\n",
      "  \"slug\": \"accessibility\",\n",
      "  \"ext\": \".md\",\n",
      "  \"tags\": [],\n",
      "  \"excerpt\": \"<p>Read about Accessibility and Compliance with Section 508 at Healthcare.gov. Learn how federal law requires access to information for the disabled</p>\",\n",
      "  \"content\": \"<p>HealthCare.gov is committed to making its electronic and information technologies accessible to people with disabilities. We strive to meet or exceed the requirements of Section 508 of the Rehabilitation Act (29 U.S.C. 794d), as amended in 1998.</p>\\n\\n<p>Section 508 is a federal law that requires agencies to provide people with disabilities equal access to electronic information and data comparable to those who do not have disabilities, unless doing so would impose an undue burden on the agency. The Section 508 standards are the technical requirements and criteria used to determine whether the agency is meeting the requirements of this law.</p>\\n\\n<h2>More information on accessibility</h2>\\n\\n<p>More information on Section 508 can be found at:</p>\\n\\n<ul><li>United States Access Board:&nbsp;<a href=\\\"https://www.access-board.gov/guidelines-and-standards/communications-and-it/about-the-section-508-standards\\\">https://www.access-board.gov/guidelines-and-standards/communications-and-it/about-the-section-508-standards</a></li>\\n\\t<li>Section508.gov:&nbsp;<a href=\\\"https://www.section508.gov/\\\">https://www.section508.gov/</a></li>\\n\\t<li>HHS Digital Communications Division:&nbsp;<a href=\\\"https://www.hhs.gov/web/508\\\">https://www.hhs.gov/web/508</a></li>\\n</ul><h2>Reporting accessibility issues</h2>\\n\\n<p><strong>For people using assistive technology only:</strong>&nbsp;If you cannot access any content or use any features on this website due to a disability, please contact our Section 508 Team via email at <a href=\\\"mailto:508Feedback@cms.hhs.gov\\\">508Feedback@cms.hhs.gov</a>. You can also use this address to send general comments or questions about our Section 508 program or broader Section 508 accessibility issues.</p>\\n\\n<p>If you are reporting a problem accessing specific content or features, please upload the material in question and/or include the URL. Let us know the specific problems you are having.</p>\\n\\n<p><strong>For other technical or customer service issues:</strong>&nbsp;If you are experiencing a technical problem creating an account or applying for coverage, please contact a Marketplace customer service representative by phone for assistance. The call center is available 24 hours a day, 7 days a week.&nbsp;<a href=\\\"https://www.healthcare.gov/contact-us/\\\">Contact us</a>.</p>\\n\\n<p>Last Updated: 10/23/2013</p>\",\n",
      "  \"url\": \"/accessibility\",\n",
      "  \"insurance-status\": \"\"\n",
      "}\n"
     ]
    }
   ],
   "source": [
    "import requests\n",
    "import json\n",
    "\n",
    "res = requests.get('https://www.healthcare.gov/accessibility.json')\n",
    "\n",
    "print(type(res))\n",
    "# print(help(res))\n",
    "# for key in dir(res):\n",
    "#     print(key)\n",
    "# print(res.json())\n",
    "\n",
    "print(json.dumps(res.json(), indent=2))"
   ]
  },
  {
   "cell_type": "code",
   "execution_count": null,
   "id": "b56bc661",
   "metadata": {},
   "outputs": [],
   "source": []
  }
 ],
 "metadata": {
  "kernelspec": {
   "display_name": "Python 3 (ipykernel)",
   "language": "python",
   "name": "python3"
  },
  "language_info": {
   "codemirror_mode": {
    "name": "ipython",
    "version": 3
   },
   "file_extension": ".py",
   "mimetype": "text/x-python",
   "name": "python",
   "nbconvert_exporter": "python",
   "pygments_lexer": "ipython3",
   "version": "3.11.5"
  }
 },
 "nbformat": 4,
 "nbformat_minor": 5
}
